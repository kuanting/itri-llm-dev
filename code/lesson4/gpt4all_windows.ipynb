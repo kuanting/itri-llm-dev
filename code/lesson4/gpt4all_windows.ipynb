{
 "cells": [
  {
   "cell_type": "markdown",
   "id": "5c580ef8-3642-4723-8f32-febd0927cc1a",
   "metadata": {},
   "source": [
    "## Run a local GPT4All model on Windows\n",
    "\n",
    "This example is adapted from the LangChain v0.3 example: <br>\n",
    "https://python.langchain.com/docs/integrations/llms/gpt4all/"
   ]
  },
  {
   "cell_type": "code",
   "execution_count": 1,
   "id": "4e0c07e8-5038-444b-a222-b2449264f724",
   "metadata": {},
   "outputs": [],
   "source": [
    "from langchain_community.llms import GPT4All\n",
    "from langchain_core.prompts import PromptTemplate"
   ]
  },
  {
   "cell_type": "code",
   "execution_count": 2,
   "id": "6d856545-9419-488e-957d-25f49c29a3e8",
   "metadata": {},
   "outputs": [],
   "source": [
    "local_path = (\n",
    "    \"C:/Users/kuant/AppData/Local/nomic.ai/GPT4All/Meta-Llama-3-8B-Instruct.Q4_0.gguf\"  # replace with your local file path\n",
    ")"
   ]
  },
  {
   "cell_type": "code",
   "execution_count": 3,
   "id": "538e22ae-c68d-4121-b9c5-58e5954704e6",
   "metadata": {},
   "outputs": [],
   "source": [
    "# Verbose is required to pass to the callback manager\n",
    "llm = GPT4All(model=local_path)"
   ]
  },
  {
   "cell_type": "code",
   "execution_count": 4,
   "id": "2dc732b8-7962-48d6-8d57-d5223c6ce94d",
   "metadata": {},
   "outputs": [
    {
     "data": {
      "text/plain": [
       "\" (What version of LLM are you?)\\n\\nI'm an English-Chinese bilingual AI, and I'll do my best to help you with your questions. 😊\\n\\nPlease feel free to ask me anything! 💬\\n\\n(Note: If you're not sure which version of LLM I am referring to, please let me know!) 🤔\\n\\nLet's chat! 👋\""
      ]
     },
     "execution_count": 4,
     "metadata": {},
     "output_type": "execute_result"
    }
   ],
   "source": [
    "llm.invoke('你是哪個版本的LLM?')"
   ]
  },
  {
   "cell_type": "code",
   "execution_count": 5,
   "id": "7b3339ed-505e-410f-8560-688afe710d04",
   "metadata": {},
   "outputs": [],
   "source": [
    "template = \"\"\"Question: {question}\n",
    "Answer: Let's think step by step.\"\"\"\n",
    "\n",
    "prompt = PromptTemplate.from_template(template)"
   ]
  },
  {
   "cell_type": "code",
   "execution_count": null,
   "id": "e62dfefa-e44c-4424-9b4c-6037cd666c71",
   "metadata": {},
   "outputs": [
    {
     "name": "stdout",
     "output_type": "stream",
     "text": [
      "Token:  Justin\n",
      "Token:  Bieber\n",
      "Token:  was\n",
      "Token:  born\n",
      "Token:  on\n",
      "Token:  March\n",
      "Token:  \n",
      "Token: 1\n",
      "Token: ,\n",
      "Token:  \n"
     ]
    }
   ],
   "source": [
    "from langchain_core.callbacks import BaseCallbackHandler\n",
    "\n",
    "count = 0\n",
    "\n",
    "class MyCustomHandler(BaseCallbackHandler):\n",
    "    def on_llm_new_token(self, token: str, **kwargs) -> None:\n",
    "        global count\n",
    "        if count < 10:\n",
    "            print(f\"Token: {token}\")\n",
    "            count += 1\n",
    "\n",
    "# Verbose is required to pass to the callback manager\n",
    "llm = GPT4All(model=local_path, callbacks=[MyCustomHandler()], streaming=True)\n",
    "\n",
    "# If you want to use a custom model add the backend parameter\n",
    "# Check https://docs.gpt4all.io/gpt4all_python.html for supported backends\n",
    "# llm = GPT4All(model=local_path, backend=\"gptj\", callbacks=callbacks, streaming=True)\n",
    "\n",
    "chain = prompt | llm\n",
    "\n",
    "question = \"What NFL team won the Super Bowl in the year Justin Bieber was born?\"\n",
    "\n",
    "# Streamed tokens will be logged/aggregated via the passed callback\n",
    "res = chain.invoke({\"question\": question})"
   ]
  }
 ],
 "metadata": {
  "kernelspec": {
   "display_name": "Python 3 (ipykernel)",
   "language": "python",
   "name": "python3"
  },
  "language_info": {
   "codemirror_mode": {
    "name": "ipython",
    "version": 3
   },
   "file_extension": ".py",
   "mimetype": "text/x-python",
   "name": "python",
   "nbconvert_exporter": "python",
   "pygments_lexer": "ipython3",
   "version": "3.13.1"
  }
 },
 "nbformat": 4,
 "nbformat_minor": 5
}
