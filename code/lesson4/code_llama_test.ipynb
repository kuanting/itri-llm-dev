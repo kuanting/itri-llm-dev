{
 "cells": [
  {
   "cell_type": "code",
   "execution_count": 8,
   "id": "2a785e09-b50c-4916-a7af-03ac97be0cd8",
   "metadata": {},
   "outputs": [],
   "source": [
    "from langchain_ollama import OllamaLLM"
   ]
  },
  {
   "cell_type": "code",
   "execution_count": 2,
   "id": "c72e1f6a-35eb-43b5-a2f0-19a9e31c43c3",
   "metadata": {},
   "outputs": [],
   "source": [
    "llm = OllamaLLM(model=\"codellama\")"
   ]
  },
  {
   "cell_type": "code",
   "execution_count": 21,
   "id": "eea20b8f-fc6c-4fe7-bcc9-cf4b8faa815e",
   "metadata": {},
   "outputs": [],
   "source": [
    "question = '''請用繁體中文解釋以下的tcl/tk程式碼\n",
    "----------------------------------\n",
    "set str \"hello world\"\n",
    "puts [string search -all \"world\" $str]\n",
    "'''"
   ]
  },
  {
   "cell_type": "code",
   "execution_count": 22,
   "id": "e32339f1-42f0-49b4-9ad0-bec05f9dbc1f",
   "metadata": {},
   "outputs": [
    {
     "data": {
      "text/plain": [
       "'This Tcl/Tk code sets the variable `str` to the string \"hello world\" and then uses the `string search` command with the `-all` option to find all occurrences of the substring \"world\" in the string. The `puts` command is used to print the result of the search, which should be 1.\\n\\nHere\\'s a breakdown of what each line does:\\n\\n* `set str \"hello world\"`: This sets the variable `str` to the string \"hello world\".\\n* `puts [string search -all \"world\" $str]`: This uses the `string search` command with the `-all` option to find all occurrences of the substring \"world\" in the string. The `[...]` notation is used to evaluate the result of the command and print it to the console.\\n\\nThe output of this code should be 1, which indicates that there is one occurrence of the substring \"world\" in the string \"hello world\".'"
      ]
     },
     "execution_count": 22,
     "metadata": {},
     "output_type": "execute_result"
    }
   ],
   "source": [
    "llm.invoke(question)"
   ]
  },
  {
   "cell_type": "code",
   "execution_count": 24,
   "id": "2cf55297-010a-4a44-b411-5e41e8b465d9",
   "metadata": {},
   "outputs": [],
   "source": [
    "res = llm.invoke('Binary search in COBOL')"
   ]
  },
  {
   "cell_type": "code",
   "execution_count": 25,
   "id": "e9ee8d32-679d-49f9-b831-fadbb26ac412",
   "metadata": {},
   "outputs": [
    {
     "data": {
      "text/html": [
       "<pre style=\"white-space:pre;overflow-x:auto;line-height:normal;font-family:Menlo,'DejaVu Sans Mono',consolas,'Courier New',monospace\">\n",
       "Binary search is a common algorithm used to efficiently find an element in a sorted list. It works by repeatedly \n",
       "dividing the list into two halves until the desired element is found or a boundary case <span style=\"font-weight: bold\">(</span>such as the element not \n",
       "being in the list<span style=\"font-weight: bold\">)</span> is reached.\n",
       "\n",
       "In COBOL, binary search can be implemented using a combination of loops and conditional statements. Here's an \n",
       "example implementation:\n",
       "```cobol\n",
       "IDENTIFICATION DIVISION.\n",
       "PROGRAM-ID. BINARYSEARCH.\n",
       "DATA DIVISION.\n",
       "WORKING-STORAGE SECTION.\n",
       "<span style=\"color: #008080; text-decoration-color: #008080; font-weight: bold\">01</span>  list-length PIC <span style=\"color: #800080; text-decoration-color: #800080; font-weight: bold\">9</span><span style=\"font-weight: bold\">(</span><span style=\"color: #008080; text-decoration-color: #008080; font-weight: bold\">4</span><span style=\"font-weight: bold\">)</span> VALUE <span style=\"color: #008080; text-decoration-color: #008080; font-weight: bold\">10</span>.\n",
       "<span style=\"color: #008080; text-decoration-color: #008080; font-weight: bold\">01</span>  element-to-find PIC <span style=\"color: #800080; text-decoration-color: #800080; font-weight: bold\">9</span><span style=\"font-weight: bold\">(</span><span style=\"color: #008080; text-decoration-color: #008080; font-weight: bold\">4</span><span style=\"font-weight: bold\">)</span> VALUE <span style=\"color: #008080; text-decoration-color: #008080; font-weight: bold\">5</span>.\n",
       "<span style=\"color: #008080; text-decoration-color: #008080; font-weight: bold\">01</span>  list OCCURS <span style=\"color: #008080; text-decoration-color: #008080; font-weight: bold\">10</span> TIMES.\n",
       "    <span style=\"color: #008080; text-decoration-color: #008080; font-weight: bold\">03</span>  value PIC <span style=\"color: #800080; text-decoration-color: #800080; font-weight: bold\">9</span><span style=\"font-weight: bold\">(</span><span style=\"color: #008080; text-decoration-color: #008080; font-weight: bold\">4</span><span style=\"font-weight: bold\">)</span>.\n",
       "<span style=\"color: #008080; text-decoration-color: #008080; font-weight: bold\">01</span>  lower-bound PIC <span style=\"color: #800080; text-decoration-color: #800080; font-weight: bold\">9</span><span style=\"font-weight: bold\">(</span><span style=\"color: #008080; text-decoration-color: #008080; font-weight: bold\">4</span><span style=\"font-weight: bold\">)</span> VALUE <span style=\"color: #008080; text-decoration-color: #008080; font-weight: bold\">1</span>.\n",
       "<span style=\"color: #008080; text-decoration-color: #008080; font-weight: bold\">01</span>  upper-bound PIC <span style=\"color: #800080; text-decoration-color: #800080; font-weight: bold\">9</span><span style=\"font-weight: bold\">(</span><span style=\"color: #008080; text-decoration-color: #008080; font-weight: bold\">4</span><span style=\"font-weight: bold\">)</span> VALUE list-length.\n",
       "<span style=\"color: #008080; text-decoration-color: #008080; font-weight: bold\">01</span>  middle-position PIC <span style=\"color: #800080; text-decoration-color: #800080; font-weight: bold\">9</span><span style=\"font-weight: bold\">(</span><span style=\"color: #008080; text-decoration-color: #008080; font-weight: bold\">4</span><span style=\"font-weight: bold\">)</span> VALUE <span style=\"font-weight: bold\">(</span>lower-bound + upper-bound<span style=\"font-weight: bold\">)</span> DIV <span style=\"color: #008080; text-decoration-color: #008080; font-weight: bold\">2</span>.\n",
       "PROCEDURE DIVISION.\n",
       "MAINLINE SECTION.\n",
       "    MOVE LOW-VALUES TO list.\n",
       "    MOVE element-to-find TO value AT middle-position.\n",
       "    PERFORM UNTIL <span style=\"font-weight: bold\">(</span>lower-bound &gt;= upper-bound<span style=\"font-weight: bold\">)</span> OR <span style=\"font-weight: bold\">(</span>value = element-to-find<span style=\"font-weight: bold\">)</span>\n",
       "        IF <span style=\"font-weight: bold\">(</span>value &lt; element-to-find<span style=\"font-weight: bold\">)</span>\n",
       "            SET lower-bound TO middle-position + <span style=\"color: #008080; text-decoration-color: #008080; font-weight: bold\">1</span>.\n",
       "        ELSE\n",
       "            SET upper-bound TO middle-position - <span style=\"color: #008080; text-decoration-color: #008080; font-weight: bold\">1</span>.\n",
       "        END-IF.\n",
       "    END-PERFORM.\n",
       "    DISPLAY <span style=\"color: #008000; text-decoration-color: #008000\">\"The element is found at position \"</span> lower-bound <span style=\"color: #008000; text-decoration-color: #008000\">\".\"</span>.\n",
       "STOP RUN.\n",
       "```\n",
       "This program defines a list of <span style=\"color: #008080; text-decoration-color: #008080; font-weight: bold\">10</span> elements, initializes it with some values, and then performs a binary search on \n",
       "the list to find an element. The `lower-bound` variable tracks the lowest index that has not been searched yet, \n",
       "while the `upper-bound` variable tracks the highest index that has not been searched yet. The `middle-position` \n",
       "variable is used to keep track of the current position being searched.\n",
       "\n",
       "The program uses a loop that continues until the `lower-bound` and `upper-bound` variables are equal <span style=\"font-weight: bold\">(</span>indicating \n",
       "that the desired element has been found<span style=\"font-weight: bold\">)</span> or the `value` at the `middle-position` is less than the \n",
       "`element-to-find`. If the `value` at the `middle-position` is less than the `element-to-find`, then the lower bound\n",
       "is increased by one and the search continues. Otherwise, the upper bound is decreased by one and the search \n",
       "continues.\n",
       "\n",
       "Once the desired element is found, the program displays a message indicating its position in the list.\n",
       "</pre>\n"
      ],
      "text/plain": [
       "\n",
       "Binary search is a common algorithm used to efficiently find an element in a sorted list. It works by repeatedly \n",
       "dividing the list into two halves until the desired element is found or a boundary case \u001b[1m(\u001b[0msuch as the element not \n",
       "being in the list\u001b[1m)\u001b[0m is reached.\n",
       "\n",
       "In COBOL, binary search can be implemented using a combination of loops and conditional statements. Here's an \n",
       "example implementation:\n",
       "```cobol\n",
       "IDENTIFICATION DIVISION.\n",
       "PROGRAM-ID. BINARYSEARCH.\n",
       "DATA DIVISION.\n",
       "WORKING-STORAGE SECTION.\n",
       "\u001b[1;36m01\u001b[0m  list-length PIC \u001b[1;35m9\u001b[0m\u001b[1m(\u001b[0m\u001b[1;36m4\u001b[0m\u001b[1m)\u001b[0m VALUE \u001b[1;36m10\u001b[0m.\n",
       "\u001b[1;36m01\u001b[0m  element-to-find PIC \u001b[1;35m9\u001b[0m\u001b[1m(\u001b[0m\u001b[1;36m4\u001b[0m\u001b[1m)\u001b[0m VALUE \u001b[1;36m5\u001b[0m.\n",
       "\u001b[1;36m01\u001b[0m  list OCCURS \u001b[1;36m10\u001b[0m TIMES.\n",
       "    \u001b[1;36m03\u001b[0m  value PIC \u001b[1;35m9\u001b[0m\u001b[1m(\u001b[0m\u001b[1;36m4\u001b[0m\u001b[1m)\u001b[0m.\n",
       "\u001b[1;36m01\u001b[0m  lower-bound PIC \u001b[1;35m9\u001b[0m\u001b[1m(\u001b[0m\u001b[1;36m4\u001b[0m\u001b[1m)\u001b[0m VALUE \u001b[1;36m1\u001b[0m.\n",
       "\u001b[1;36m01\u001b[0m  upper-bound PIC \u001b[1;35m9\u001b[0m\u001b[1m(\u001b[0m\u001b[1;36m4\u001b[0m\u001b[1m)\u001b[0m VALUE list-length.\n",
       "\u001b[1;36m01\u001b[0m  middle-position PIC \u001b[1;35m9\u001b[0m\u001b[1m(\u001b[0m\u001b[1;36m4\u001b[0m\u001b[1m)\u001b[0m VALUE \u001b[1m(\u001b[0mlower-bound + upper-bound\u001b[1m)\u001b[0m DIV \u001b[1;36m2\u001b[0m.\n",
       "PROCEDURE DIVISION.\n",
       "MAINLINE SECTION.\n",
       "    MOVE LOW-VALUES TO list.\n",
       "    MOVE element-to-find TO value AT middle-position.\n",
       "    PERFORM UNTIL \u001b[1m(\u001b[0mlower-bound >= upper-bound\u001b[1m)\u001b[0m OR \u001b[1m(\u001b[0mvalue = element-to-find\u001b[1m)\u001b[0m\n",
       "        IF \u001b[1m(\u001b[0mvalue < element-to-find\u001b[1m)\u001b[0m\n",
       "            SET lower-bound TO middle-position + \u001b[1;36m1\u001b[0m.\n",
       "        ELSE\n",
       "            SET upper-bound TO middle-position - \u001b[1;36m1\u001b[0m.\n",
       "        END-IF.\n",
       "    END-PERFORM.\n",
       "    DISPLAY \u001b[32m\"The element is found at position \"\u001b[0m lower-bound \u001b[32m\".\"\u001b[0m.\n",
       "STOP RUN.\n",
       "```\n",
       "This program defines a list of \u001b[1;36m10\u001b[0m elements, initializes it with some values, and then performs a binary search on \n",
       "the list to find an element. The `lower-bound` variable tracks the lowest index that has not been searched yet, \n",
       "while the `upper-bound` variable tracks the highest index that has not been searched yet. The `middle-position` \n",
       "variable is used to keep track of the current position being searched.\n",
       "\n",
       "The program uses a loop that continues until the `lower-bound` and `upper-bound` variables are equal \u001b[1m(\u001b[0mindicating \n",
       "that the desired element has been found\u001b[1m)\u001b[0m or the `value` at the `middle-position` is less than the \n",
       "`element-to-find`. If the `value` at the `middle-position` is less than the `element-to-find`, then the lower bound\n",
       "is increased by one and the search continues. Otherwise, the upper bound is decreased by one and the search \n",
       "continues.\n",
       "\n",
       "Once the desired element is found, the program displays a message indicating its position in the list.\n"
      ]
     },
     "metadata": {},
     "output_type": "display_data"
    }
   ],
   "source": [
    "pprint(res)"
   ]
  },
  {
   "cell_type": "code",
   "execution_count": null,
   "id": "ad21ec53-fbc4-4936-93d0-ea9d997d6fe3",
   "metadata": {},
   "outputs": [],
   "source": []
  }
 ],
 "metadata": {
  "kernelspec": {
   "display_name": "Python 3 (ipykernel)",
   "language": "python",
   "name": "python3"
  },
  "language_info": {
   "codemirror_mode": {
    "name": "ipython",
    "version": 3
   },
   "file_extension": ".py",
   "mimetype": "text/x-python",
   "name": "python",
   "nbconvert_exporter": "python",
   "pygments_lexer": "ipython3",
   "version": "3.13.1"
  }
 },
 "nbformat": 4,
 "nbformat_minor": 5
}
