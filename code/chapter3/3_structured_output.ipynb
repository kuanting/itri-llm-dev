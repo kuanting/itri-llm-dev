{
  "nbformat": 4,
  "nbformat_minor": 0,
  "metadata": {
    "colab": {
      "provenance": []
    },
    "kernelspec": {
      "name": "python3",
      "display_name": "Python 3"
    },
    "language_info": {
      "name": "python"
    }
  },
  "cells": [
    {
      "cell_type": "markdown",
      "source": [
        "# Structured Output\n",
        "\n",
        "This example refers to [LangChain quickstart](https://python.langchain.com/docs/introduction/) and [LangChain開發手冊(旗標)](https://www.tenlong.com.tw/products/9789863127918)"
      ],
      "metadata": {
        "id": "LxlYIQP2rG50"
      }
    },
    {
      "cell_type": "code",
      "execution_count": 24,
      "metadata": {
        "id": "ucbU2OPQpWmi"
      },
      "outputs": [],
      "source": [
        "!pip install langchain --quiet\n",
        "!pip install langchain_openai --quiet\n",
        "!pip install rich --quiet"
      ]
    },
    {
      "cell_type": "code",
      "source": [
        "import os\n",
        "from google.colab import userdata\n",
        "\n",
        "if not os.environ.get(\"OPENAI_API_KEY\"):\n",
        "  os.environ[\"OPENAI_API_KEY\"] = userdata.get('OPENAI_API_KEY')"
      ],
      "metadata": {
        "id": "RngwE0O3qzPp"
      },
      "execution_count": 25,
      "outputs": []
    },
    {
      "cell_type": "code",
      "source": [
        "from langchain_openai import ChatOpenAI\n",
        "\n",
        "model = ChatOpenAI(model=\"gpt-4o-mini\")"
      ],
      "metadata": {
        "id": "pRW3GdAUq5FF"
      },
      "execution_count": 26,
      "outputs": []
    },
    {
      "cell_type": "markdown",
      "source": [
        "## Structred Output & Output Parsers"
      ],
      "metadata": {
        "id": "Gtz3Z5cfxyoe"
      }
    },
    {
      "cell_type": "code",
      "source": [
        "from langchain_core.output_parsers import StrOutputParser, JsonOutputParser\n",
        "str_parser = StrOutputParser()"
      ],
      "metadata": {
        "id": "u4WQ6-_ex4eF"
      },
      "execution_count": 27,
      "outputs": []
    },
    {
      "cell_type": "code",
      "source": [],
      "metadata": {
        "id": "0UjxIebii88h"
      },
      "execution_count": null,
      "outputs": []
    },
    {
      "cell_type": "code",
      "source": [
        "message = model.invoke(\"請提供一個國家的名稱和首都, 使用繁體中文\")\n",
        "print(message.content)"
      ],
      "metadata": {
        "colab": {
          "base_uri": "https://localhost:8080/"
        },
        "id": "UCb_7_4Y1UNK",
        "outputId": "0be9a7de-26ee-4266-941d-3e8edc51b4a6"
      },
      "execution_count": 28,
      "outputs": [
        {
          "output_type": "stream",
          "name": "stdout",
          "text": [
            "國家名稱：日本  \n",
            "首都：東京\n"
          ]
        }
      ]
    },
    {
      "cell_type": "code",
      "source": [
        "str_parser.invoke(message)"
      ],
      "metadata": {
        "colab": {
          "base_uri": "https://localhost:8080/",
          "height": 35
        },
        "id": "7I0gHHXFfB70",
        "outputId": "b0fbbfed-b352-418f-a3f2-a4332f5ed51e"
      },
      "execution_count": 29,
      "outputs": [
        {
          "output_type": "execute_result",
          "data": {
            "text/plain": [
              "'國家名稱：日本  \\n首都：東京'"
            ],
            "application/vnd.google.colaboratory.intrinsic+json": {
              "type": "string"
            }
          },
          "metadata": {},
          "execution_count": 29
        }
      ]
    },
    {
      "cell_type": "markdown",
      "source": [
        "### JSON Parser"
      ],
      "metadata": {
        "id": "jHsYsuCRfyNQ"
      }
    },
    {
      "cell_type": "code",
      "source": [
        "json_parser = JsonOutputParser()\n",
        "format_instructions = json_parser.get_format_instructions()\n",
        "print(format_instructions)"
      ],
      "metadata": {
        "colab": {
          "base_uri": "https://localhost:8080/"
        },
        "id": "9Xd1DUcY1a0U",
        "outputId": "7445fbf7-0a58-4c67-b09e-694460417ef1"
      },
      "execution_count": 30,
      "outputs": [
        {
          "output_type": "stream",
          "name": "stdout",
          "text": [
            "Return a JSON object.\n"
          ]
        }
      ]
    },
    {
      "cell_type": "code",
      "source": [
        "message = model.invoke(\"請提供一個國家的名稱和首都,\"\n",
        "                    f\"{format_instructions}, 使用台灣語言\")\n",
        "print(message.content)"
      ],
      "metadata": {
        "colab": {
          "base_uri": "https://localhost:8080/"
        },
        "id": "lsGZpRQb2RhO",
        "outputId": "d7c73108-4798-486f-e180-b5c6ed59af6c"
      },
      "execution_count": 31,
      "outputs": [
        {
          "output_type": "stream",
          "name": "stdout",
          "text": [
            "{\n",
            "  \"國家\": \"日本\",\n",
            "  \"首都\": \"東京\"\n",
            "}\n"
          ]
        }
      ]
    },
    {
      "cell_type": "code",
      "source": [
        "json_output = json_parser.invoke(message)\n",
        "print(json_output)"
      ],
      "metadata": {
        "colab": {
          "base_uri": "https://localhost:8080/"
        },
        "id": "rd7gmaN_19-i",
        "outputId": "4ba9a37d-0c9c-4744-f4b9-3e8cfc236a85"
      },
      "execution_count": 32,
      "outputs": [
        {
          "output_type": "stream",
          "name": "stdout",
          "text": [
            "{'國家': '日本', '首都': '東京'}\n"
          ]
        }
      ]
    },
    {
      "cell_type": "markdown",
      "source": [
        "### CSV Parser"
      ],
      "metadata": {
        "id": "PWfro9-6fvlr"
      }
    },
    {
      "cell_type": "markdown",
      "source": [],
      "metadata": {
        "id": "JYCKvk3rf4Vm"
      }
    },
    {
      "cell_type": "code",
      "source": [
        "from langchain_core.output_parsers import (\n",
        "    CommaSeparatedListOutputParser)"
      ],
      "metadata": {
        "id": "6c48wGDZf4IX"
      },
      "execution_count": 33,
      "outputs": []
    },
    {
      "cell_type": "code",
      "source": [
        "list_parser = CommaSeparatedListOutputParser()\n",
        "print(list_parser.get_format_instructions())"
      ],
      "metadata": {
        "colab": {
          "base_uri": "https://localhost:8080/"
        },
        "id": "MIrD2QNjgBOT",
        "outputId": "e00a2a21-1f1e-421f-a0cc-f390ceef8338"
      },
      "execution_count": 34,
      "outputs": [
        {
          "output_type": "stream",
          "name": "stdout",
          "text": [
            "Your response should be a list of comma separated values, eg: `foo, bar, baz` or `foo,bar,baz`\n"
          ]
        }
      ]
    },
    {
      "cell_type": "code",
      "source": [
        "# 建立提示模板\n",
        "prompt = PromptTemplate.from_template(\n",
        "    \"請說出國家{city}的知名景點\\n{instructions}\"\n",
        ").partial(instructions=list_parser.get_format_instructions())\n",
        "response = model.invoke(prompt.format(city='台灣'))\n",
        "print(response.content)"
      ],
      "metadata": {
        "colab": {
          "base_uri": "https://localhost:8080/"
        },
        "id": "kOQVmyeGgGN6",
        "outputId": "86958588-1a07-43ac-b8ef-2a97ebe39930"
      },
      "execution_count": 35,
      "outputs": [
        {
          "output_type": "stream",
          "name": "stdout",
          "text": [
            "台北101, 故宮博物院, 九份, 日月潭, 阿里山, 太魯閣國家公園, 龍騰斷橋, 澎湖列島, 垦丁國家公園, 士林夜市\n"
          ]
        }
      ]
    },
    {
      "cell_type": "code",
      "source": [
        "pprint(list_parser.invoke(response))"
      ],
      "metadata": {
        "colab": {
          "base_uri": "https://localhost:8080/",
          "height": 241
        },
        "id": "R_xhT3xlgKqw",
        "outputId": "b2799903-0a0b-4c32-98f1-d868ff9b396d"
      },
      "execution_count": 36,
      "outputs": [
        {
          "output_type": "display_data",
          "data": {
            "text/plain": [
              "\u001b[1m[\u001b[0m\n",
              "    \u001b[32m'台北101'\u001b[0m,\n",
              "    \u001b[32m'故宮博物院'\u001b[0m,\n",
              "    \u001b[32m'九份'\u001b[0m,\n",
              "    \u001b[32m'日月潭'\u001b[0m,\n",
              "    \u001b[32m'阿里山'\u001b[0m,\n",
              "    \u001b[32m'太魯閣國家公園'\u001b[0m,\n",
              "    \u001b[32m'龍騰斷橋'\u001b[0m,\n",
              "    \u001b[32m'澎湖列島'\u001b[0m,\n",
              "    \u001b[32m'垦丁國家公園'\u001b[0m,\n",
              "    \u001b[32m'士林夜市'\u001b[0m\n",
              "\u001b[1m]\u001b[0m\n"
            ],
            "text/html": [
              "<pre style=\"white-space:pre;overflow-x:auto;line-height:normal;font-family:Menlo,'DejaVu Sans Mono',consolas,'Courier New',monospace\"><span style=\"font-weight: bold\">[</span>\n",
              "    <span style=\"color: #008000; text-decoration-color: #008000\">'台北101'</span>,\n",
              "    <span style=\"color: #008000; text-decoration-color: #008000\">'故宮博物院'</span>,\n",
              "    <span style=\"color: #008000; text-decoration-color: #008000\">'九份'</span>,\n",
              "    <span style=\"color: #008000; text-decoration-color: #008000\">'日月潭'</span>,\n",
              "    <span style=\"color: #008000; text-decoration-color: #008000\">'阿里山'</span>,\n",
              "    <span style=\"color: #008000; text-decoration-color: #008000\">'太魯閣國家公園'</span>,\n",
              "    <span style=\"color: #008000; text-decoration-color: #008000\">'龍騰斷橋'</span>,\n",
              "    <span style=\"color: #008000; text-decoration-color: #008000\">'澎湖列島'</span>,\n",
              "    <span style=\"color: #008000; text-decoration-color: #008000\">'垦丁國家公園'</span>,\n",
              "    <span style=\"color: #008000; text-decoration-color: #008000\">'士林夜市'</span>\n",
              "<span style=\"font-weight: bold\">]</span>\n",
              "</pre>\n"
            ]
          },
          "metadata": {}
        }
      ]
    },
    {
      "cell_type": "markdown",
      "source": [
        "### 使用Pydanic自訂class"
      ],
      "metadata": {
        "id": "K1p4_t6V20Vx"
      }
    },
    {
      "cell_type": "markdown",
      "source": [
        "#### 旅遊計劃書"
      ],
      "metadata": {
        "id": "rJJdAuaS8eMO"
      }
    },
    {
      "cell_type": "code",
      "source": [
        "from langchain_core.output_parsers import PydanticOutputParser\n",
        "from langchain_core.prompts import PromptTemplate, ChatPromptTemplate\n",
        "from langchain_openai import OpenAI\n",
        "from pydantic import BaseModel, Field, model_validator\n",
        "from typing import List\n",
        "from rich import print as pprint"
      ],
      "metadata": {
        "id": "NCxJB3X33ieL"
      },
      "execution_count": 37,
      "outputs": []
    },
    {
      "cell_type": "code",
      "source": [
        "class TravelPlan(BaseModel):\n",
        "    destination: str = Field(description=\"旅遊目的地, 如日本北海道\")\n",
        "    activities: List[str] = Field(description=\"推薦的活動\")\n",
        "    budget: float = Field(description=\"預算範圍,單位新台幣\")\n",
        "    accommodation: List[str] = Field(description=\"住宿選項\")"
      ],
      "metadata": {
        "id": "4HuV6Xeo5ehh"
      },
      "execution_count": 38,
      "outputs": []
    },
    {
      "cell_type": "code",
      "source": [
        "parser = PydanticOutputParser(pydantic_object=TravelPlan)\n",
        "format_instructions = parser.get_format_instructions()\n",
        "pprint(format_instructions)"
      ],
      "metadata": {
        "colab": {
          "base_uri": "https://localhost:8080/",
          "height": 280
        },
        "id": "DknDA56d5f2Z",
        "outputId": "dbc4d74b-4def-40c3-f645-b274bd4a29de"
      },
      "execution_count": 39,
      "outputs": [
        {
          "output_type": "display_data",
          "data": {
            "text/plain": [
              "The output should be formatted as a JSON instance that conforms to the JSON schema below.\n",
              "\n",
              "As an example, for the schema \u001b[1m{\u001b[0m\u001b[32m\"properties\"\u001b[0m: \u001b[1m{\u001b[0m\u001b[32m\"foo\"\u001b[0m: \u001b[1m{\u001b[0m\u001b[32m\"title\"\u001b[0m: \u001b[32m\"Foo\"\u001b[0m, \u001b[32m\"description\"\u001b[0m: \u001b[32m\"a list of strings\"\u001b[0m, \u001b[32m\"type\"\u001b[0m: \n",
              "\u001b[32m\"array\"\u001b[0m, \u001b[32m\"items\"\u001b[0m: \u001b[1m{\u001b[0m\u001b[32m\"type\"\u001b[0m: \u001b[32m\"string\"\u001b[0m\u001b[1m}\u001b[0m\u001b[1m}\u001b[0m\u001b[1m}\u001b[0m, \u001b[32m\"required\"\u001b[0m: \u001b[1m[\u001b[0m\u001b[32m\"foo\"\u001b[0m\u001b[1m]\u001b[0m\u001b[1m}\u001b[0m\n",
              "the object \u001b[1m{\u001b[0m\u001b[32m\"foo\"\u001b[0m: \u001b[1m[\u001b[0m\u001b[32m\"bar\"\u001b[0m, \u001b[32m\"baz\"\u001b[0m\u001b[1m]\u001b[0m\u001b[1m}\u001b[0m is a well-formatted instance of the schema. The object \u001b[1m{\u001b[0m\u001b[32m\"properties\"\u001b[0m: \u001b[1m{\u001b[0m\u001b[32m\"foo\"\u001b[0m: \n",
              "\u001b[1m[\u001b[0m\u001b[32m\"bar\"\u001b[0m, \u001b[32m\"baz\"\u001b[0m\u001b[1m]\u001b[0m\u001b[1m}\u001b[0m\u001b[1m}\u001b[0m is not well-formatted.\n",
              "\n",
              "Here is the output schema:\n",
              "```\n",
              "\u001b[1m{\u001b[0m\u001b[32m\"properties\"\u001b[0m: \u001b[1m{\u001b[0m\u001b[32m\"destination\"\u001b[0m: \u001b[1m{\u001b[0m\u001b[32m\"description\"\u001b[0m: \u001b[32m\"旅遊目的地, 如日本北海道\"\u001b[0m, \u001b[32m\"title\"\u001b[0m: \u001b[32m\"Destination\"\u001b[0m, \u001b[32m\"type\"\u001b[0m: \n",
              "\u001b[32m\"string\"\u001b[0m\u001b[1m}\u001b[0m, \u001b[32m\"activities\"\u001b[0m: \u001b[1m{\u001b[0m\u001b[32m\"description\"\u001b[0m: \u001b[32m\"推薦的活動\"\u001b[0m, \u001b[32m\"items\"\u001b[0m: \u001b[1m{\u001b[0m\u001b[32m\"type\"\u001b[0m: \u001b[32m\"string\"\u001b[0m\u001b[1m}\u001b[0m, \u001b[32m\"title\"\u001b[0m: \u001b[32m\"Activities\"\u001b[0m, \u001b[32m\"type\"\u001b[0m: \n",
              "\u001b[32m\"array\"\u001b[0m\u001b[1m}\u001b[0m, \u001b[32m\"budget\"\u001b[0m: \u001b[1m{\u001b[0m\u001b[32m\"description\"\u001b[0m: \u001b[32m\"預算範圍,單位新台幣\"\u001b[0m, \u001b[32m\"title\"\u001b[0m: \u001b[32m\"Budget\"\u001b[0m, \u001b[32m\"type\"\u001b[0m: \u001b[32m\"number\"\u001b[0m\u001b[1m}\u001b[0m, \u001b[32m\"accommodation\"\u001b[0m: \n",
              "\u001b[1m{\u001b[0m\u001b[32m\"description\"\u001b[0m: \u001b[32m\"住宿選項\"\u001b[0m, \u001b[32m\"items\"\u001b[0m: \u001b[1m{\u001b[0m\u001b[32m\"type\"\u001b[0m: \u001b[32m\"string\"\u001b[0m\u001b[1m}\u001b[0m, \u001b[32m\"title\"\u001b[0m: \u001b[32m\"Accommodation\"\u001b[0m, \u001b[32m\"type\"\u001b[0m: \u001b[32m\"array\"\u001b[0m\u001b[1m}\u001b[0m\u001b[1m}\u001b[0m, \u001b[32m\"required\"\u001b[0m: \n",
              "\u001b[1m[\u001b[0m\u001b[32m\"destination\"\u001b[0m, \u001b[32m\"activities\"\u001b[0m, \u001b[32m\"budget\"\u001b[0m, \u001b[32m\"accommodation\"\u001b[0m\u001b[1m]\u001b[0m\u001b[1m}\u001b[0m\n",
              "```\n"
            ],
            "text/html": [
              "<pre style=\"white-space:pre;overflow-x:auto;line-height:normal;font-family:Menlo,'DejaVu Sans Mono',consolas,'Courier New',monospace\">The output should be formatted as a JSON instance that conforms to the JSON schema below.\n",
              "\n",
              "As an example, for the schema <span style=\"font-weight: bold\">{</span><span style=\"color: #008000; text-decoration-color: #008000\">\"properties\"</span>: <span style=\"font-weight: bold\">{</span><span style=\"color: #008000; text-decoration-color: #008000\">\"foo\"</span>: <span style=\"font-weight: bold\">{</span><span style=\"color: #008000; text-decoration-color: #008000\">\"title\"</span>: <span style=\"color: #008000; text-decoration-color: #008000\">\"Foo\"</span>, <span style=\"color: #008000; text-decoration-color: #008000\">\"description\"</span>: <span style=\"color: #008000; text-decoration-color: #008000\">\"a list of strings\"</span>, <span style=\"color: #008000; text-decoration-color: #008000\">\"type\"</span>: \n",
              "<span style=\"color: #008000; text-decoration-color: #008000\">\"array\"</span>, <span style=\"color: #008000; text-decoration-color: #008000\">\"items\"</span>: <span style=\"font-weight: bold\">{</span><span style=\"color: #008000; text-decoration-color: #008000\">\"type\"</span>: <span style=\"color: #008000; text-decoration-color: #008000\">\"string\"</span><span style=\"font-weight: bold\">}}}</span>, <span style=\"color: #008000; text-decoration-color: #008000\">\"required\"</span>: <span style=\"font-weight: bold\">[</span><span style=\"color: #008000; text-decoration-color: #008000\">\"foo\"</span><span style=\"font-weight: bold\">]}</span>\n",
              "the object <span style=\"font-weight: bold\">{</span><span style=\"color: #008000; text-decoration-color: #008000\">\"foo\"</span>: <span style=\"font-weight: bold\">[</span><span style=\"color: #008000; text-decoration-color: #008000\">\"bar\"</span>, <span style=\"color: #008000; text-decoration-color: #008000\">\"baz\"</span><span style=\"font-weight: bold\">]}</span> is a well-formatted instance of the schema. The object <span style=\"font-weight: bold\">{</span><span style=\"color: #008000; text-decoration-color: #008000\">\"properties\"</span>: <span style=\"font-weight: bold\">{</span><span style=\"color: #008000; text-decoration-color: #008000\">\"foo\"</span>: \n",
              "<span style=\"font-weight: bold\">[</span><span style=\"color: #008000; text-decoration-color: #008000\">\"bar\"</span>, <span style=\"color: #008000; text-decoration-color: #008000\">\"baz\"</span><span style=\"font-weight: bold\">]}}</span> is not well-formatted.\n",
              "\n",
              "Here is the output schema:\n",
              "```\n",
              "<span style=\"font-weight: bold\">{</span><span style=\"color: #008000; text-decoration-color: #008000\">\"properties\"</span>: <span style=\"font-weight: bold\">{</span><span style=\"color: #008000; text-decoration-color: #008000\">\"destination\"</span>: <span style=\"font-weight: bold\">{</span><span style=\"color: #008000; text-decoration-color: #008000\">\"description\"</span>: <span style=\"color: #008000; text-decoration-color: #008000\">\"旅遊目的地, 如日本北海道\"</span>, <span style=\"color: #008000; text-decoration-color: #008000\">\"title\"</span>: <span style=\"color: #008000; text-decoration-color: #008000\">\"Destination\"</span>, <span style=\"color: #008000; text-decoration-color: #008000\">\"type\"</span>: \n",
              "<span style=\"color: #008000; text-decoration-color: #008000\">\"string\"</span><span style=\"font-weight: bold\">}</span>, <span style=\"color: #008000; text-decoration-color: #008000\">\"activities\"</span>: <span style=\"font-weight: bold\">{</span><span style=\"color: #008000; text-decoration-color: #008000\">\"description\"</span>: <span style=\"color: #008000; text-decoration-color: #008000\">\"推薦的活動\"</span>, <span style=\"color: #008000; text-decoration-color: #008000\">\"items\"</span>: <span style=\"font-weight: bold\">{</span><span style=\"color: #008000; text-decoration-color: #008000\">\"type\"</span>: <span style=\"color: #008000; text-decoration-color: #008000\">\"string\"</span><span style=\"font-weight: bold\">}</span>, <span style=\"color: #008000; text-decoration-color: #008000\">\"title\"</span>: <span style=\"color: #008000; text-decoration-color: #008000\">\"Activities\"</span>, <span style=\"color: #008000; text-decoration-color: #008000\">\"type\"</span>: \n",
              "<span style=\"color: #008000; text-decoration-color: #008000\">\"array\"</span><span style=\"font-weight: bold\">}</span>, <span style=\"color: #008000; text-decoration-color: #008000\">\"budget\"</span>: <span style=\"font-weight: bold\">{</span><span style=\"color: #008000; text-decoration-color: #008000\">\"description\"</span>: <span style=\"color: #008000; text-decoration-color: #008000\">\"預算範圍,單位新台幣\"</span>, <span style=\"color: #008000; text-decoration-color: #008000\">\"title\"</span>: <span style=\"color: #008000; text-decoration-color: #008000\">\"Budget\"</span>, <span style=\"color: #008000; text-decoration-color: #008000\">\"type\"</span>: <span style=\"color: #008000; text-decoration-color: #008000\">\"number\"</span><span style=\"font-weight: bold\">}</span>, <span style=\"color: #008000; text-decoration-color: #008000\">\"accommodation\"</span>: \n",
              "<span style=\"font-weight: bold\">{</span><span style=\"color: #008000; text-decoration-color: #008000\">\"description\"</span>: <span style=\"color: #008000; text-decoration-color: #008000\">\"住宿選項\"</span>, <span style=\"color: #008000; text-decoration-color: #008000\">\"items\"</span>: <span style=\"font-weight: bold\">{</span><span style=\"color: #008000; text-decoration-color: #008000\">\"type\"</span>: <span style=\"color: #008000; text-decoration-color: #008000\">\"string\"</span><span style=\"font-weight: bold\">}</span>, <span style=\"color: #008000; text-decoration-color: #008000\">\"title\"</span>: <span style=\"color: #008000; text-decoration-color: #008000\">\"Accommodation\"</span>, <span style=\"color: #008000; text-decoration-color: #008000\">\"type\"</span>: <span style=\"color: #008000; text-decoration-color: #008000\">\"array\"</span><span style=\"font-weight: bold\">}}</span>, <span style=\"color: #008000; text-decoration-color: #008000\">\"required\"</span>: \n",
              "<span style=\"font-weight: bold\">[</span><span style=\"color: #008000; text-decoration-color: #008000\">\"destination\"</span>, <span style=\"color: #008000; text-decoration-color: #008000\">\"activities\"</span>, <span style=\"color: #008000; text-decoration-color: #008000\">\"budget\"</span>, <span style=\"color: #008000; text-decoration-color: #008000\">\"accommodation\"</span><span style=\"font-weight: bold\">]}</span>\n",
              "```\n",
              "</pre>\n"
            ]
          },
          "metadata": {}
        }
      ]
    },
    {
      "cell_type": "code",
      "source": [
        "prompt = ChatPromptTemplate.from_messages(\n",
        "    [(\"system\",\"使用繁體中文並根據使用者要求推薦出適合的旅遊計劃,\\n\"\n",
        "               \"{format_instructions}\"),\n",
        "     (\"human\",\"{query}\")\n",
        "    ]\n",
        ")\n",
        "new_prompt = prompt.partial(format_instructions=format_instructions)"
      ],
      "metadata": {
        "id": "WSVcASKE5n0t"
      },
      "execution_count": 46,
      "outputs": []
    },
    {
      "cell_type": "code",
      "source": [
        "user_query = \"我喜歡潛水以及在日落時散步, 所以想要安排一個海邊假期\"\n",
        "user_prompt = new_prompt.invoke({\"query\": user_query})\n",
        "response = model.invoke(user_prompt)\n",
        "pprint(response.content)"
      ],
      "metadata": {
        "colab": {
          "base_uri": "https://localhost:8080/",
          "height": 307
        },
        "id": "YvYg7J-w5r46",
        "outputId": "365d51a7-df12-4983-cc6b-5edc1c78533f"
      },
      "execution_count": 41,
      "outputs": [
        {
          "output_type": "display_data",
          "data": {
            "text/plain": [
              "\u001b[1m{\u001b[0m\n",
              "  \u001b[32m\"destination\"\u001b[0m: \u001b[32m\"菲律賓薄荷島\"\u001b[0m,\n",
              "  \u001b[32m\"activities\"\u001b[0m: \u001b[1m[\u001b[0m\n",
              "    \u001b[32m\"潛水探索珊瑚礁\"\u001b[0m,\n",
              "    \u001b[32m\"夜晚在海灘散步觀賞日落\"\u001b[0m,\n",
              "    \u001b[32m\"浮潛觀賞海洋生物\"\u001b[0m,\n",
              "    \u001b[32m\"參加島嶼 hopping 之旅\"\u001b[0m,\n",
              "    \u001b[32m\"享用當地美食海鮮\"\u001b[0m\n",
              "  \u001b[1m]\u001b[0m,\n",
              "  \u001b[32m\"budget\"\u001b[0m: \u001b[1;36m30000\u001b[0m,\n",
              "  \u001b[32m\"accommodation\"\u001b[0m: \u001b[1m[\u001b[0m\n",
              "    \u001b[32m\"海景飯店\"\u001b[0m,\n",
              "    \u001b[32m\"度假村\"\u001b[0m,\n",
              "    \u001b[32m\"民宿\"\u001b[0m\n",
              "  \u001b[1m]\u001b[0m\n",
              "\u001b[1m}\u001b[0m\n"
            ],
            "text/html": [
              "<pre style=\"white-space:pre;overflow-x:auto;line-height:normal;font-family:Menlo,'DejaVu Sans Mono',consolas,'Courier New',monospace\"><span style=\"font-weight: bold\">{</span>\n",
              "  <span style=\"color: #008000; text-decoration-color: #008000\">\"destination\"</span>: <span style=\"color: #008000; text-decoration-color: #008000\">\"菲律賓薄荷島\"</span>,\n",
              "  <span style=\"color: #008000; text-decoration-color: #008000\">\"activities\"</span>: <span style=\"font-weight: bold\">[</span>\n",
              "    <span style=\"color: #008000; text-decoration-color: #008000\">\"潛水探索珊瑚礁\"</span>,\n",
              "    <span style=\"color: #008000; text-decoration-color: #008000\">\"夜晚在海灘散步觀賞日落\"</span>,\n",
              "    <span style=\"color: #008000; text-decoration-color: #008000\">\"浮潛觀賞海洋生物\"</span>,\n",
              "    <span style=\"color: #008000; text-decoration-color: #008000\">\"參加島嶼 hopping 之旅\"</span>,\n",
              "    <span style=\"color: #008000; text-decoration-color: #008000\">\"享用當地美食海鮮\"</span>\n",
              "  <span style=\"font-weight: bold\">]</span>,\n",
              "  <span style=\"color: #008000; text-decoration-color: #008000\">\"budget\"</span>: <span style=\"color: #008080; text-decoration-color: #008080; font-weight: bold\">30000</span>,\n",
              "  <span style=\"color: #008000; text-decoration-color: #008000\">\"accommodation\"</span>: <span style=\"font-weight: bold\">[</span>\n",
              "    <span style=\"color: #008000; text-decoration-color: #008000\">\"海景飯店\"</span>,\n",
              "    <span style=\"color: #008000; text-decoration-color: #008000\">\"度假村\"</span>,\n",
              "    <span style=\"color: #008000; text-decoration-color: #008000\">\"民宿\"</span>\n",
              "  <span style=\"font-weight: bold\">]</span>\n",
              "<span style=\"font-weight: bold\">}</span>\n",
              "</pre>\n"
            ]
          },
          "metadata": {}
        }
      ]
    },
    {
      "cell_type": "code",
      "source": [
        "parser_output = parser.invoke(response)\n",
        "pprint(parser_output)"
      ],
      "metadata": {
        "colab": {
          "base_uri": "https://localhost:8080/",
          "height": 235
        },
        "id": "gcTj5uIu50-p",
        "outputId": "380b2e0c-3005-4c85-911d-c96c0b076fa1"
      },
      "execution_count": 42,
      "outputs": [
        {
          "output_type": "display_data",
          "data": {
            "text/plain": [
              "\u001b[1;35mTravelPlan\u001b[0m\u001b[1m(\u001b[0m\n",
              "    \u001b[33mdestination\u001b[0m=\u001b[32m'菲律賓薄荷島'\u001b[0m,\n",
              "    \u001b[33mactivities\u001b[0m=\u001b[1m[\u001b[0m\n",
              "        \u001b[32m'潛水探索珊瑚礁'\u001b[0m,\n",
              "        \u001b[32m'夜晚在海灘散步觀賞日落'\u001b[0m,\n",
              "        \u001b[32m'浮潛觀賞海洋生物'\u001b[0m,\n",
              "        \u001b[32m'參加島嶼 hopping 之旅'\u001b[0m,\n",
              "        \u001b[32m'享用當地美食海鮮'\u001b[0m\n",
              "    \u001b[1m]\u001b[0m,\n",
              "    \u001b[33mbudget\u001b[0m=\u001b[1;36m30000\u001b[0m\u001b[1;36m.0\u001b[0m,\n",
              "    \u001b[33maccommodation\u001b[0m=\u001b[1m[\u001b[0m\u001b[32m'海景飯店'\u001b[0m, \u001b[32m'度假村'\u001b[0m, \u001b[32m'民宿'\u001b[0m\u001b[1m]\u001b[0m\n",
              "\u001b[1m)\u001b[0m\n"
            ],
            "text/html": [
              "<pre style=\"white-space:pre;overflow-x:auto;line-height:normal;font-family:Menlo,'DejaVu Sans Mono',consolas,'Courier New',monospace\"><span style=\"color: #800080; text-decoration-color: #800080; font-weight: bold\">TravelPlan</span><span style=\"font-weight: bold\">(</span>\n",
              "    <span style=\"color: #808000; text-decoration-color: #808000\">destination</span>=<span style=\"color: #008000; text-decoration-color: #008000\">'菲律賓薄荷島'</span>,\n",
              "    <span style=\"color: #808000; text-decoration-color: #808000\">activities</span>=<span style=\"font-weight: bold\">[</span>\n",
              "        <span style=\"color: #008000; text-decoration-color: #008000\">'潛水探索珊瑚礁'</span>,\n",
              "        <span style=\"color: #008000; text-decoration-color: #008000\">'夜晚在海灘散步觀賞日落'</span>,\n",
              "        <span style=\"color: #008000; text-decoration-color: #008000\">'浮潛觀賞海洋生物'</span>,\n",
              "        <span style=\"color: #008000; text-decoration-color: #008000\">'參加島嶼 hopping 之旅'</span>,\n",
              "        <span style=\"color: #008000; text-decoration-color: #008000\">'享用當地美食海鮮'</span>\n",
              "    <span style=\"font-weight: bold\">]</span>,\n",
              "    <span style=\"color: #808000; text-decoration-color: #808000\">budget</span>=<span style=\"color: #008080; text-decoration-color: #008080; font-weight: bold\">30000.0</span>,\n",
              "    <span style=\"color: #808000; text-decoration-color: #808000\">accommodation</span>=<span style=\"font-weight: bold\">[</span><span style=\"color: #008000; text-decoration-color: #008000\">'海景飯店'</span>, <span style=\"color: #008000; text-decoration-color: #008000\">'度假村'</span>, <span style=\"color: #008000; text-decoration-color: #008000\">'民宿'</span><span style=\"font-weight: bold\">]</span>\n",
              "<span style=\"font-weight: bold\">)</span>\n",
              "</pre>\n"
            ]
          },
          "metadata": {}
        }
      ]
    },
    {
      "cell_type": "markdown",
      "source": [
        "#### Use @model_validator to check Output format"
      ],
      "metadata": {
        "id": "QZRXIUh96R52"
      }
    },
    {
      "cell_type": "code",
      "source": [
        "# Define your desired data structure.\n",
        "class Joke(BaseModel):\n",
        "    setup: str = Field(description=\"question to set up a joke\")\n",
        "    punchline: str = Field(description=\"answer to resolve the joke\")\n",
        "\n",
        "    # You can add custom validation logic easily with Pydantic.\n",
        "    @model_validator(mode=\"before\")\n",
        "    @classmethod\n",
        "    def question_ends_with_question_mark(cls, values: dict) -> dict:\n",
        "        setup = values.get(\"setup\")\n",
        "        if setup and setup[-1] != \"?\":\n",
        "            raise ValueError(\"Badly formed question!\")\n",
        "        return values\n",
        "\n",
        "\n",
        "# Set up a parser + inject instructions into the prompt template.\n",
        "parser = PydanticOutputParser(pydantic_object=Joke)\n",
        "\n",
        "prompt = PromptTemplate(\n",
        "    template=\"Answer the user query.\\n{format_instructions}\\n{query}\\n\",\n",
        "    input_variables=[\"query\"],\n",
        "    partial_variables={\"format_instructions\": parser.get_format_instructions()},\n",
        ")"
      ],
      "metadata": {
        "id": "UcilWPO121_B"
      },
      "execution_count": 51,
      "outputs": []
    },
    {
      "cell_type": "code",
      "source": [
        "# And a query intended to prompt a language model to populate the data structure.\n",
        "prompt_and_model = prompt | model\n",
        "output = prompt_and_model.invoke({\"query\": \"Tell me a joke about cats\"})\n",
        "parser.invoke(output)"
      ],
      "metadata": {
        "colab": {
          "base_uri": "https://localhost:8080/"
        },
        "id": "zq5kb-BXn4Zm",
        "outputId": "de5b72b3-b9de-4858-bdce-e4d05e7fc707"
      },
      "execution_count": 52,
      "outputs": [
        {
          "output_type": "execute_result",
          "data": {
            "text/plain": [
              "Joke(setup='Why was the cat sitting on the computer?', punchline='Because it wanted to keep an eye on the mouse!')"
            ]
          },
          "metadata": {},
          "execution_count": 52
        }
      ]
    },
    {
      "cell_type": "code",
      "source": [
        "output = prompt_and_model.invoke({\"query\": \"寫一份飲料店創業計畫書\"})"
      ],
      "metadata": {
        "id": "hKl4VVp9nWVL"
      },
      "execution_count": 58,
      "outputs": []
    },
    {
      "cell_type": "code",
      "source": [
        "parser.invoke(output)"
      ],
      "metadata": {
        "colab": {
          "base_uri": "https://localhost:8080/",
          "height": 512
        },
        "id": "h3V0P4wLn1YV",
        "outputId": "9651d820-ebf3-49a2-c40a-ee7cc27c2edb"
      },
      "execution_count": 59,
      "outputs": [
        {
          "output_type": "error",
          "ename": "OutputParserException",
          "evalue": "Failed to parse Joke from completion {\"setup\": \"\\u5982\\u4f55\\u5728\\u98f2\\u6599\\u5e02\\u5834\\u6210\\u529f\\u5275\\u696d\\uff1f\", \"punchline\": \"\\u63d0\\u4f9b\\u5275\\u65b0\\u7684\\u98f2\\u54c1\\u548c\\u5353\\u8d8a\\u7684\\u9867\\u5ba2\\u670d\\u52d9\\uff01\"}. Got: 1 validation error for Joke\n  Value error, Badly formed question! [type=value_error, input_value={'setup': '如何在飲...越的顧客服務！'}, input_type=dict]\n    For further information visit https://errors.pydantic.dev/2.10/v/value_error\nFor troubleshooting, visit: https://python.langchain.com/docs/troubleshooting/errors/OUTPUT_PARSING_FAILURE ",
          "traceback": [
            "\u001b[0;31m---------------------------------------------------------------------------\u001b[0m",
            "\u001b[0;31mValidationError\u001b[0m                           Traceback (most recent call last)",
            "\u001b[0;32m/usr/local/lib/python3.10/dist-packages/langchain_core/output_parsers/pydantic.py\u001b[0m in \u001b[0;36m_parse_obj\u001b[0;34m(self, obj)\u001b[0m\n\u001b[1;32m     27\u001b[0m                 \u001b[0;32mif\u001b[0m \u001b[0missubclass\u001b[0m\u001b[0;34m(\u001b[0m\u001b[0mself\u001b[0m\u001b[0;34m.\u001b[0m\u001b[0mpydantic_object\u001b[0m\u001b[0;34m,\u001b[0m \u001b[0mpydantic\u001b[0m\u001b[0;34m.\u001b[0m\u001b[0mBaseModel\u001b[0m\u001b[0;34m)\u001b[0m\u001b[0;34m:\u001b[0m\u001b[0;34m\u001b[0m\u001b[0;34m\u001b[0m\u001b[0m\n\u001b[0;32m---> 28\u001b[0;31m                     \u001b[0;32mreturn\u001b[0m \u001b[0mself\u001b[0m\u001b[0;34m.\u001b[0m\u001b[0mpydantic_object\u001b[0m\u001b[0;34m.\u001b[0m\u001b[0mmodel_validate\u001b[0m\u001b[0;34m(\u001b[0m\u001b[0mobj\u001b[0m\u001b[0;34m)\u001b[0m\u001b[0;34m\u001b[0m\u001b[0;34m\u001b[0m\u001b[0m\n\u001b[0m\u001b[1;32m     29\u001b[0m                 \u001b[0;32melif\u001b[0m \u001b[0missubclass\u001b[0m\u001b[0;34m(\u001b[0m\u001b[0mself\u001b[0m\u001b[0;34m.\u001b[0m\u001b[0mpydantic_object\u001b[0m\u001b[0;34m,\u001b[0m \u001b[0mpydantic\u001b[0m\u001b[0;34m.\u001b[0m\u001b[0mv1\u001b[0m\u001b[0;34m.\u001b[0m\u001b[0mBaseModel\u001b[0m\u001b[0;34m)\u001b[0m\u001b[0;34m:\u001b[0m\u001b[0;34m\u001b[0m\u001b[0;34m\u001b[0m\u001b[0m\n",
            "\u001b[0;32m/usr/local/lib/python3.10/dist-packages/pydantic/main.py\u001b[0m in \u001b[0;36mmodel_validate\u001b[0;34m(cls, obj, strict, from_attributes, context)\u001b[0m\n\u001b[1;32m    626\u001b[0m         \u001b[0m__tracebackhide__\u001b[0m \u001b[0;34m=\u001b[0m \u001b[0;32mTrue\u001b[0m\u001b[0;34m\u001b[0m\u001b[0;34m\u001b[0m\u001b[0m\n\u001b[0;32m--> 627\u001b[0;31m         return cls.__pydantic_validator__.validate_python(\n\u001b[0m\u001b[1;32m    628\u001b[0m             \u001b[0mobj\u001b[0m\u001b[0;34m,\u001b[0m \u001b[0mstrict\u001b[0m\u001b[0;34m=\u001b[0m\u001b[0mstrict\u001b[0m\u001b[0;34m,\u001b[0m \u001b[0mfrom_attributes\u001b[0m\u001b[0;34m=\u001b[0m\u001b[0mfrom_attributes\u001b[0m\u001b[0;34m,\u001b[0m \u001b[0mcontext\u001b[0m\u001b[0;34m=\u001b[0m\u001b[0mcontext\u001b[0m\u001b[0;34m\u001b[0m\u001b[0;34m\u001b[0m\u001b[0m\n",
            "\u001b[0;31mValidationError\u001b[0m: 1 validation error for Joke\n  Value error, Badly formed question! [type=value_error, input_value={'setup': '如何在飲...越的顧客服務！'}, input_type=dict]\n    For further information visit https://errors.pydantic.dev/2.10/v/value_error",
            "\nThe above exception was the direct cause of the following exception:\n",
            "\u001b[0;31mOutputParserException\u001b[0m                     Traceback (most recent call last)",
            "\u001b[0;32m<ipython-input-59-0b7878259dfd>\u001b[0m in \u001b[0;36m<cell line: 1>\u001b[0;34m()\u001b[0m\n\u001b[0;32m----> 1\u001b[0;31m \u001b[0mparser\u001b[0m\u001b[0;34m.\u001b[0m\u001b[0minvoke\u001b[0m\u001b[0;34m(\u001b[0m\u001b[0moutput\u001b[0m\u001b[0;34m)\u001b[0m\u001b[0;34m\u001b[0m\u001b[0;34m\u001b[0m\u001b[0m\n\u001b[0m",
            "\u001b[0;32m/usr/local/lib/python3.10/dist-packages/langchain_core/output_parsers/base.py\u001b[0m in \u001b[0;36minvoke\u001b[0;34m(self, input, config, **kwargs)\u001b[0m\n\u001b[1;32m    191\u001b[0m     ) -> T:\n\u001b[1;32m    192\u001b[0m         \u001b[0;32mif\u001b[0m \u001b[0misinstance\u001b[0m\u001b[0;34m(\u001b[0m\u001b[0minput\u001b[0m\u001b[0;34m,\u001b[0m \u001b[0mBaseMessage\u001b[0m\u001b[0;34m)\u001b[0m\u001b[0;34m:\u001b[0m\u001b[0;34m\u001b[0m\u001b[0;34m\u001b[0m\u001b[0m\n\u001b[0;32m--> 193\u001b[0;31m             return self._call_with_config(\n\u001b[0m\u001b[1;32m    194\u001b[0m                 lambda inner_input: self.parse_result(\n\u001b[1;32m    195\u001b[0m                     \u001b[0;34m[\u001b[0m\u001b[0mChatGeneration\u001b[0m\u001b[0;34m(\u001b[0m\u001b[0mmessage\u001b[0m\u001b[0;34m=\u001b[0m\u001b[0minner_input\u001b[0m\u001b[0;34m)\u001b[0m\u001b[0;34m]\u001b[0m\u001b[0;34m\u001b[0m\u001b[0;34m\u001b[0m\u001b[0m\n",
            "\u001b[0;32m/usr/local/lib/python3.10/dist-packages/langchain_core/runnables/base.py\u001b[0m in \u001b[0;36m_call_with_config\u001b[0;34m(self, func, input, config, run_type, serialized, **kwargs)\u001b[0m\n\u001b[1;32m   1923\u001b[0m             output = cast(\n\u001b[1;32m   1924\u001b[0m                 \u001b[0mOutput\u001b[0m\u001b[0;34m,\u001b[0m\u001b[0;34m\u001b[0m\u001b[0;34m\u001b[0m\u001b[0m\n\u001b[0;32m-> 1925\u001b[0;31m                 context.run(\n\u001b[0m\u001b[1;32m   1926\u001b[0m                     \u001b[0mcall_func_with_variable_args\u001b[0m\u001b[0;34m,\u001b[0m  \u001b[0;31m# type: ignore[arg-type]\u001b[0m\u001b[0;34m\u001b[0m\u001b[0;34m\u001b[0m\u001b[0m\n\u001b[1;32m   1927\u001b[0m                     \u001b[0mfunc\u001b[0m\u001b[0;34m,\u001b[0m  \u001b[0;31m# type: ignore[arg-type]\u001b[0m\u001b[0;34m\u001b[0m\u001b[0;34m\u001b[0m\u001b[0m\n",
            "\u001b[0;32m/usr/local/lib/python3.10/dist-packages/langchain_core/runnables/config.py\u001b[0m in \u001b[0;36mcall_func_with_variable_args\u001b[0;34m(func, input, config, run_manager, **kwargs)\u001b[0m\n\u001b[1;32m    394\u001b[0m     \u001b[0;32mif\u001b[0m \u001b[0mrun_manager\u001b[0m \u001b[0;32mis\u001b[0m \u001b[0;32mnot\u001b[0m \u001b[0;32mNone\u001b[0m \u001b[0;32mand\u001b[0m \u001b[0maccepts_run_manager\u001b[0m\u001b[0;34m(\u001b[0m\u001b[0mfunc\u001b[0m\u001b[0;34m)\u001b[0m\u001b[0;34m:\u001b[0m\u001b[0;34m\u001b[0m\u001b[0;34m\u001b[0m\u001b[0m\n\u001b[1;32m    395\u001b[0m         \u001b[0mkwargs\u001b[0m\u001b[0;34m[\u001b[0m\u001b[0;34m\"run_manager\"\u001b[0m\u001b[0;34m]\u001b[0m \u001b[0;34m=\u001b[0m \u001b[0mrun_manager\u001b[0m\u001b[0;34m\u001b[0m\u001b[0;34m\u001b[0m\u001b[0m\n\u001b[0;32m--> 396\u001b[0;31m     \u001b[0;32mreturn\u001b[0m \u001b[0mfunc\u001b[0m\u001b[0;34m(\u001b[0m\u001b[0minput\u001b[0m\u001b[0;34m,\u001b[0m \u001b[0;34m**\u001b[0m\u001b[0mkwargs\u001b[0m\u001b[0;34m)\u001b[0m  \u001b[0;31m# type: ignore[call-arg]\u001b[0m\u001b[0;34m\u001b[0m\u001b[0;34m\u001b[0m\u001b[0m\n\u001b[0m\u001b[1;32m    397\u001b[0m \u001b[0;34m\u001b[0m\u001b[0m\n\u001b[1;32m    398\u001b[0m \u001b[0;34m\u001b[0m\u001b[0m\n",
            "\u001b[0;32m/usr/local/lib/python3.10/dist-packages/langchain_core/output_parsers/base.py\u001b[0m in \u001b[0;36m<lambda>\u001b[0;34m(inner_input)\u001b[0m\n\u001b[1;32m    192\u001b[0m         \u001b[0;32mif\u001b[0m \u001b[0misinstance\u001b[0m\u001b[0;34m(\u001b[0m\u001b[0minput\u001b[0m\u001b[0;34m,\u001b[0m \u001b[0mBaseMessage\u001b[0m\u001b[0;34m)\u001b[0m\u001b[0;34m:\u001b[0m\u001b[0;34m\u001b[0m\u001b[0;34m\u001b[0m\u001b[0m\n\u001b[1;32m    193\u001b[0m             return self._call_with_config(\n\u001b[0;32m--> 194\u001b[0;31m                 lambda inner_input: self.parse_result(\n\u001b[0m\u001b[1;32m    195\u001b[0m                     \u001b[0;34m[\u001b[0m\u001b[0mChatGeneration\u001b[0m\u001b[0;34m(\u001b[0m\u001b[0mmessage\u001b[0m\u001b[0;34m=\u001b[0m\u001b[0minner_input\u001b[0m\u001b[0;34m)\u001b[0m\u001b[0;34m]\u001b[0m\u001b[0;34m\u001b[0m\u001b[0;34m\u001b[0m\u001b[0m\n\u001b[1;32m    196\u001b[0m                 ),\n",
            "\u001b[0;32m/usr/local/lib/python3.10/dist-packages/langchain_core/output_parsers/pydantic.py\u001b[0m in \u001b[0;36mparse_result\u001b[0;34m(self, result, partial)\u001b[0m\n\u001b[1;32m     70\u001b[0m             \u001b[0;32mif\u001b[0m \u001b[0mpartial\u001b[0m\u001b[0;34m:\u001b[0m\u001b[0;34m\u001b[0m\u001b[0;34m\u001b[0m\u001b[0m\n\u001b[1;32m     71\u001b[0m                 \u001b[0;32mreturn\u001b[0m \u001b[0;32mNone\u001b[0m\u001b[0;34m\u001b[0m\u001b[0;34m\u001b[0m\u001b[0m\n\u001b[0;32m---> 72\u001b[0;31m             \u001b[0;32mraise\u001b[0m \u001b[0me\u001b[0m\u001b[0;34m\u001b[0m\u001b[0;34m\u001b[0m\u001b[0m\n\u001b[0m\u001b[1;32m     73\u001b[0m \u001b[0;34m\u001b[0m\u001b[0m\n\u001b[1;32m     74\u001b[0m     \u001b[0;32mdef\u001b[0m \u001b[0mparse\u001b[0m\u001b[0;34m(\u001b[0m\u001b[0mself\u001b[0m\u001b[0;34m,\u001b[0m \u001b[0mtext\u001b[0m\u001b[0;34m:\u001b[0m \u001b[0mstr\u001b[0m\u001b[0;34m)\u001b[0m \u001b[0;34m->\u001b[0m \u001b[0mTBaseModel\u001b[0m\u001b[0;34m:\u001b[0m\u001b[0;34m\u001b[0m\u001b[0;34m\u001b[0m\u001b[0m\n",
            "\u001b[0;32m/usr/local/lib/python3.10/dist-packages/langchain_core/output_parsers/pydantic.py\u001b[0m in \u001b[0;36mparse_result\u001b[0;34m(self, result, partial)\u001b[0m\n\u001b[1;32m     66\u001b[0m         \u001b[0;32mtry\u001b[0m\u001b[0;34m:\u001b[0m\u001b[0;34m\u001b[0m\u001b[0;34m\u001b[0m\u001b[0m\n\u001b[1;32m     67\u001b[0m             \u001b[0mjson_object\u001b[0m \u001b[0;34m=\u001b[0m \u001b[0msuper\u001b[0m\u001b[0;34m(\u001b[0m\u001b[0;34m)\u001b[0m\u001b[0;34m.\u001b[0m\u001b[0mparse_result\u001b[0m\u001b[0;34m(\u001b[0m\u001b[0mresult\u001b[0m\u001b[0;34m)\u001b[0m\u001b[0;34m\u001b[0m\u001b[0;34m\u001b[0m\u001b[0m\n\u001b[0;32m---> 68\u001b[0;31m             \u001b[0;32mreturn\u001b[0m \u001b[0mself\u001b[0m\u001b[0;34m.\u001b[0m\u001b[0m_parse_obj\u001b[0m\u001b[0;34m(\u001b[0m\u001b[0mjson_object\u001b[0m\u001b[0;34m)\u001b[0m\u001b[0;34m\u001b[0m\u001b[0;34m\u001b[0m\u001b[0m\n\u001b[0m\u001b[1;32m     69\u001b[0m         \u001b[0;32mexcept\u001b[0m \u001b[0mOutputParserException\u001b[0m \u001b[0;32mas\u001b[0m \u001b[0me\u001b[0m\u001b[0;34m:\u001b[0m\u001b[0;34m\u001b[0m\u001b[0;34m\u001b[0m\u001b[0m\n\u001b[1;32m     70\u001b[0m             \u001b[0;32mif\u001b[0m \u001b[0mpartial\u001b[0m\u001b[0;34m:\u001b[0m\u001b[0;34m\u001b[0m\u001b[0;34m\u001b[0m\u001b[0m\n",
            "\u001b[0;32m/usr/local/lib/python3.10/dist-packages/langchain_core/output_parsers/pydantic.py\u001b[0m in \u001b[0;36m_parse_obj\u001b[0;34m(self, obj)\u001b[0m\n\u001b[1;32m     34\u001b[0m                     \u001b[0;32mraise\u001b[0m \u001b[0mOutputParserException\u001b[0m\u001b[0;34m(\u001b[0m\u001b[0mmsg\u001b[0m\u001b[0;34m)\u001b[0m\u001b[0;34m\u001b[0m\u001b[0;34m\u001b[0m\u001b[0m\n\u001b[1;32m     35\u001b[0m             \u001b[0;32mexcept\u001b[0m \u001b[0;34m(\u001b[0m\u001b[0mpydantic\u001b[0m\u001b[0;34m.\u001b[0m\u001b[0mValidationError\u001b[0m\u001b[0;34m,\u001b[0m \u001b[0mpydantic\u001b[0m\u001b[0;34m.\u001b[0m\u001b[0mv1\u001b[0m\u001b[0;34m.\u001b[0m\u001b[0mValidationError\u001b[0m\u001b[0;34m)\u001b[0m \u001b[0;32mas\u001b[0m \u001b[0me\u001b[0m\u001b[0;34m:\u001b[0m\u001b[0;34m\u001b[0m\u001b[0;34m\u001b[0m\u001b[0m\n\u001b[0;32m---> 36\u001b[0;31m                 \u001b[0;32mraise\u001b[0m \u001b[0mself\u001b[0m\u001b[0;34m.\u001b[0m\u001b[0m_parser_exception\u001b[0m\u001b[0;34m(\u001b[0m\u001b[0me\u001b[0m\u001b[0;34m,\u001b[0m \u001b[0mobj\u001b[0m\u001b[0;34m)\u001b[0m \u001b[0;32mfrom\u001b[0m \u001b[0me\u001b[0m\u001b[0;34m\u001b[0m\u001b[0;34m\u001b[0m\u001b[0m\n\u001b[0m\u001b[1;32m     37\u001b[0m         \u001b[0;32melse\u001b[0m\u001b[0;34m:\u001b[0m  \u001b[0;31m# pydantic v1\u001b[0m\u001b[0;34m\u001b[0m\u001b[0;34m\u001b[0m\u001b[0m\n\u001b[1;32m     38\u001b[0m             \u001b[0;32mtry\u001b[0m\u001b[0;34m:\u001b[0m\u001b[0;34m\u001b[0m\u001b[0;34m\u001b[0m\u001b[0m\n",
            "\u001b[0;31mOutputParserException\u001b[0m: Failed to parse Joke from completion {\"setup\": \"\\u5982\\u4f55\\u5728\\u98f2\\u6599\\u5e02\\u5834\\u6210\\u529f\\u5275\\u696d\\uff1f\", \"punchline\": \"\\u63d0\\u4f9b\\u5275\\u65b0\\u7684\\u98f2\\u54c1\\u548c\\u5353\\u8d8a\\u7684\\u9867\\u5ba2\\u670d\\u52d9\\uff01\"}. Got: 1 validation error for Joke\n  Value error, Badly formed question! [type=value_error, input_value={'setup': '如何在飲...越的顧客服務！'}, input_type=dict]\n    For further information visit https://errors.pydantic.dev/2.10/v/value_error\nFor troubleshooting, visit: https://python.langchain.com/docs/troubleshooting/errors/OUTPUT_PARSING_FAILURE "
          ]
        }
      ]
    }
  ]
}