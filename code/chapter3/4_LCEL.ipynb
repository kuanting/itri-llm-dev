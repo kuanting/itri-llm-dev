{
  "nbformat": 4,
  "nbformat_minor": 0,
  "metadata": {
    "colab": {
      "provenance": [],
      "collapsed_sections": [
        "GblY0YqGX6qG"
      ]
    },
    "kernelspec": {
      "name": "python3",
      "display_name": "Python 3"
    },
    "language_info": {
      "name": "python"
    }
  },
  "cells": [
    {
      "cell_type": "markdown",
      "source": [
        "# LangChain Expression Language (LCEL)\n",
        "\n",
        "This example refers to [LangChain開發手冊(旗標)](https://www.tenlong.com.tw/products/9789863127918)"
      ],
      "metadata": {
        "id": "SABdXmtadliZ"
      }
    },
    {
      "cell_type": "code",
      "source": [
        "!pip install langchain langchain_openai rich --quiet"
      ],
      "metadata": {
        "id": "iKVs532fd95f",
        "collapsed": true
      },
      "execution_count": 54,
      "outputs": []
    },
    {
      "cell_type": "code",
      "execution_count": 55,
      "metadata": {
        "id": "-XApyJ43zIxV"
      },
      "outputs": [],
      "source": [
        "# 匯入套件和金鑰\n",
        "import os\n",
        "from google.colab import userdata\n",
        "from rich import print as pprint\n",
        "\n",
        "os.environ[\"OPENAI_API_KEY\"] = userdata.get('OPENAI_API_KEY')"
      ]
    },
    {
      "cell_type": "markdown",
      "source": [
        "### 簡單使用 LCEL"
      ],
      "metadata": {
        "id": "fk2dXmyCdJel"
      }
    },
    {
      "cell_type": "code",
      "source": [
        "from langchain_core.prompts import ChatPromptTemplate,PromptTemplate\n",
        "from langchain_openai import ChatOpenAI\n",
        "from langchain_core.output_parsers import StrOutputParser\n",
        "\n",
        "str_parser = StrOutputParser()\n",
        "chat_model = ChatOpenAI()\n",
        "prompt = ChatPromptTemplate.from_template(\n",
        "    '{city} 位於那一個國家？')\n",
        "\n",
        "# LCEL\n",
        "chain = prompt | chat_model | str_parser"
      ],
      "metadata": {
        "id": "W_mCOdQ-N-EG"
      },
      "execution_count": 56,
      "outputs": []
    },
    {
      "cell_type": "code",
      "source": [
        "print(chain.invoke({\"city\":\"台北\"}))"
      ],
      "metadata": {
        "colab": {
          "base_uri": "https://localhost:8080/"
        },
        "id": "mGFikcaYuKmx",
        "outputId": "d9e6fdd6-2292-42ea-88b3-5bab7af91f17"
      },
      "execution_count": 57,
      "outputs": [
        {
          "output_type": "stream",
          "name": "stdout",
          "text": [
            "台北是位於中華民國（Taiwan）的首都。\n"
          ]
        }
      ]
    },
    {
      "cell_type": "markdown",
      "source": [
        "### 手工串接個別物件"
      ],
      "metadata": {
        "id": "90tV6e5mMy5d"
      }
    },
    {
      "cell_type": "code",
      "source": [
        "content = str_parser.invoke(\n",
        "    chat_model.invoke(\n",
        "        prompt.invoke({'city': '台北'})))\n",
        "print(content)"
      ],
      "metadata": {
        "colab": {
          "base_uri": "https://localhost:8080/"
        },
        "id": "MnTA7QpPDgDa",
        "outputId": "642fdf8f-5ce9-4bd6-ef7c-a00e37aa0f87"
      },
      "execution_count": 58,
      "outputs": [
        {
          "output_type": "stream",
          "name": "stdout",
          "text": [
            "台北是位於台灣的首都。\n"
          ]
        }
      ]
    },
    {
      "cell_type": "code",
      "source": [
        "class make_chain:\n",
        "    def __init__(self, runnable_list):\n",
        "        self.__runnable_list = runnable_list\n",
        "    def invoke(self, arg):\n",
        "        for runnable in self.__runnable_list:\n",
        "            arg = runnable.invoke(arg)\n",
        "        return arg\n",
        "\n",
        "find_country_chain = make_chain(\n",
        "    [prompt, chat_model, str_parser]\n",
        ")\n",
        "\n",
        "find_country_chain.invoke({'city': '京都'})"
      ],
      "metadata": {
        "colab": {
          "base_uri": "https://localhost:8080/",
          "height": 35
        },
        "id": "1CTHTPiaFvnK",
        "outputId": "5f2e315b-17f4-4e95-857a-6d1eae9d1493"
      },
      "execution_count": 59,
      "outputs": [
        {
          "output_type": "execute_result",
          "data": {
            "text/plain": [
              "'京都位於日本。'"
            ],
            "application/vnd.google.colaboratory.intrinsic+json": {
              "type": "string"
            }
          },
          "metadata": {},
          "execution_count": 59
        }
      ]
    },
    {
      "cell_type": "markdown",
      "source": [
        "### 使用 RunnableSequence 類別簡化多層函式的呼叫"
      ],
      "metadata": {
        "id": "JTBnsk8DM8JA"
      }
    },
    {
      "cell_type": "code",
      "source": [
        "from langchain_core.runnables import RunnableSequence\n",
        "\n",
        "find_country_chain = RunnableSequence(\n",
        "    prompt,\n",
        "    chat_model,\n",
        "    str_parser\n",
        ")\n",
        "find_country_chain.invoke({'city': 'New York'})"
      ],
      "metadata": {
        "colab": {
          "base_uri": "https://localhost:8080/",
          "height": 35
        },
        "id": "oN-RvHUgJzpK",
        "outputId": "133b18f0-6cee-4049-abc5-bdb3dae8a8b5"
      },
      "execution_count": 60,
      "outputs": [
        {
          "output_type": "execute_result",
          "data": {
            "text/plain": [
              "'New York 位於美國。'"
            ],
            "application/vnd.google.colaboratory.intrinsic+json": {
              "type": "string"
            }
          },
          "metadata": {},
          "execution_count": 60
        }
      ]
    },
    {
      "cell_type": "markdown",
      "source": [
        "### 使用 LCEL 建立兩個Chain, 有共通參數{city}\n"
      ],
      "metadata": {
        "id": "yqXtlxBSNBFX"
      }
    },
    {
      "cell_type": "code",
      "source": [
        "find_country_chain = prompt | chat_model | str_parser\n",
        "find_country_chain.invoke({'city': '巴塞隆納'})"
      ],
      "metadata": {
        "colab": {
          "base_uri": "https://localhost:8080/",
          "height": 35
        },
        "id": "10cfHi2WLPbD",
        "outputId": "dbb0df79-c0d8-4c29-d64a-2cd7da23f229"
      },
      "execution_count": 61,
      "outputs": [
        {
          "output_type": "execute_result",
          "data": {
            "text/plain": [
              "'巴塞隆納位於西班牙。'"
            ],
            "application/vnd.google.colaboratory.intrinsic+json": {
              "type": "string"
            }
          },
          "metadata": {},
          "execution_count": 61
        }
      ]
    },
    {
      "cell_type": "code",
      "source": [
        "lang_template = ChatPromptTemplate.from_template('在{city}講哪一種語言？')\n",
        "find_lang_chain = lang_template | chat_model | str_parser\n",
        "find_lang_chain.invoke({'city': '開羅'})"
      ],
      "metadata": {
        "colab": {
          "base_uri": "https://localhost:8080/",
          "height": 35
        },
        "id": "g6I1gm0DP1uL",
        "outputId": "63520f53-db09-49b9-b929-c3e35be4f779"
      },
      "execution_count": 62,
      "outputs": [
        {
          "output_type": "execute_result",
          "data": {
            "text/plain": [
              "'在開羅，主要使用阿拉伯語。此外，在商業和旅遊領域，也會使用英語。'"
            ],
            "application/vnd.google.colaboratory.intrinsic+json": {
              "type": "string"
            }
          },
          "metadata": {},
          "execution_count": 62
        }
      ]
    },
    {
      "cell_type": "markdown",
      "source": [
        "### 使用 RunnableParallel 合併相同參數執行並整合2個 Runnable 物件\n",
        "\n"
      ],
      "metadata": {
        "id": "SiNc7XpyNNRx"
      }
    },
    {
      "cell_type": "code",
      "source": [
        "from langchain_core.runnables import RunnableParallel\n",
        "find_country_and_lang_chain = RunnableParallel(\n",
        "    country=find_country_chain,\n",
        "    lang=find_lang_chain\n",
        ")\n",
        "find_country_and_lang_chain.invoke({'city': '開羅'})"
      ],
      "metadata": {
        "colab": {
          "base_uri": "https://localhost:8080/"
        },
        "id": "G_88dpb1QrTs",
        "outputId": "2e0336f1-6719-4f26-b5b9-5f5784e4e3bf"
      },
      "execution_count": 63,
      "outputs": [
        {
          "output_type": "execute_result",
          "data": {
            "text/plain": [
              "{'country': '開羅（Cairo）位於埃及（Egypt）的首都。',\n",
              " 'lang': '在開羅，人們通常講阿拉伯語。此外，英語也是一種普遍使用的語言，尤其在商業場合和旅遊業中。其他語言，如法語和德語，也可能用於特定的場合或社區中。'}"
            ]
          },
          "metadata": {},
          "execution_count": 63
        }
      ]
    },
    {
      "cell_type": "code",
      "source": [
        "pprint(find_country_and_lang_chain)"
      ],
      "metadata": {
        "colab": {
          "base_uri": "https://localhost:8080/",
          "height": 1000
        },
        "id": "tkA7_-dr1vgA",
        "outputId": "616cbe23-b494-4be1-b198-1c2d7de51918"
      },
      "execution_count": 64,
      "outputs": [
        {
          "output_type": "display_data",
          "data": {
            "text/plain": [
              "\u001b[1;35mRunnableParallel\u001b[0m\u001b[1m(\u001b[0m\n",
              "    \u001b[33msteps__\u001b[0m=\u001b[1m{\u001b[0m\n",
              "        \u001b[32m'country'\u001b[0m: \u001b[1;35mRunnableSequence\u001b[0m\u001b[1m(\u001b[0m\n",
              "            \u001b[33mfirst\u001b[0m=\u001b[1;35mChatPromptTemplate\u001b[0m\u001b[1m(\u001b[0m\n",
              "                \u001b[33minput_variables\u001b[0m=\u001b[1m[\u001b[0m\u001b[32m'city'\u001b[0m\u001b[1m]\u001b[0m,\n",
              "                \u001b[33minput_types\u001b[0m=\u001b[1m{\u001b[0m\u001b[1m}\u001b[0m,\n",
              "                \u001b[33mpartial_variables\u001b[0m=\u001b[1m{\u001b[0m\u001b[1m}\u001b[0m,\n",
              "                \u001b[33mmessages\u001b[0m=\u001b[1m[\u001b[0m\n",
              "                    \u001b[1;35mHumanMessagePromptTemplate\u001b[0m\u001b[1m(\u001b[0m\n",
              "                        \u001b[33mprompt\u001b[0m=\u001b[1;35mPromptTemplate\u001b[0m\u001b[1m(\u001b[0m\n",
              "                            \u001b[33minput_variables\u001b[0m=\u001b[1m[\u001b[0m\u001b[32m'city'\u001b[0m\u001b[1m]\u001b[0m,\n",
              "                            \u001b[33minput_types\u001b[0m=\u001b[1m{\u001b[0m\u001b[1m}\u001b[0m,\n",
              "                            \u001b[33mpartial_variables\u001b[0m=\u001b[1m{\u001b[0m\u001b[1m}\u001b[0m,\n",
              "                            \u001b[33mtemplate\u001b[0m=\u001b[32m'\u001b[0m\u001b[32m{\u001b[0m\u001b[32mcity\u001b[0m\u001b[32m}\u001b[0m\u001b[32m 位於那一個國家？'\u001b[0m\n",
              "                        \u001b[1m)\u001b[0m,\n",
              "                        \u001b[33madditional_kwargs\u001b[0m=\u001b[1m{\u001b[0m\u001b[1m}\u001b[0m\n",
              "                    \u001b[1m)\u001b[0m\n",
              "                \u001b[1m]\u001b[0m\n",
              "            \u001b[1m)\u001b[0m,\n",
              "            \u001b[33mmiddle\u001b[0m=\u001b[1m[\u001b[0m\n",
              "                \u001b[1;35mChatOpenAI\u001b[0m\u001b[1m(\u001b[0m\n",
              "                    \u001b[33mclient\u001b[0m=\u001b[1m<\u001b[0m\u001b[1;95mopenai.resources.chat.completions.Completions\u001b[0m\u001b[39m object at \u001b[0m\u001b[1;36m0x7d359729b6a0\u001b[0m\u001b[39m>,\u001b[0m\n",
              "\u001b[39m                    \u001b[0m\u001b[33masync_client\u001b[0m\u001b[39m=<openai.resources.chat.completions.AsyncCompletions object at \u001b[0m\u001b[1;36m0x7d359752e050\u001b[0m\u001b[39m>,\u001b[0m\n",
              "\u001b[39m                    \u001b[0m\u001b[33mroot_client\u001b[0m\u001b[39m=<openai.OpenAI object at \u001b[0m\u001b[1;36m0x7d35972993c0\u001b[0m\u001b[39m>,\u001b[0m\n",
              "\u001b[39m                    \u001b[0m\u001b[33mroot_async_client\u001b[0m\u001b[39m=<openai.AsyncOpenAI object at \u001b[0m\u001b[1;36m0x7d3597299fc0\u001b[0m\u001b[39m>,\u001b[0m\n",
              "\u001b[39m                    \u001b[0m\u001b[33mmodel_kwargs\u001b[0m\u001b[39m=\u001b[0m\u001b[1;39m{\u001b[0m\u001b[1;39m}\u001b[0m\u001b[39m,\u001b[0m\n",
              "\u001b[39m                    \u001b[0m\u001b[33mopenai_api_key\u001b[0m\u001b[39m=\u001b[0m\u001b[1;35mSecretStr\u001b[0m\u001b[1;39m(\u001b[0m\u001b[32m'**********'\u001b[0m\u001b[1;39m)\u001b[0m\n",
              "\u001b[39m                \u001b[0m\u001b[1;39m)\u001b[0m\n",
              "\u001b[39m            \u001b[0m\u001b[1;39m]\u001b[0m\u001b[39m,\u001b[0m\n",
              "\u001b[39m            \u001b[0m\u001b[33mlast\u001b[0m\u001b[39m=\u001b[0m\u001b[1;35mStrOutputParser\u001b[0m\u001b[1;39m(\u001b[0m\u001b[1;39m)\u001b[0m\n",
              "\u001b[39m        \u001b[0m\u001b[1;39m)\u001b[0m\u001b[39m,\u001b[0m\n",
              "\u001b[39m        \u001b[0m\u001b[32m'lang'\u001b[0m\u001b[39m: \u001b[0m\u001b[1;35mRunnableSequence\u001b[0m\u001b[1;39m(\u001b[0m\n",
              "\u001b[39m            \u001b[0m\u001b[33mfirst\u001b[0m\u001b[39m=\u001b[0m\u001b[1;35mChatPromptTemplate\u001b[0m\u001b[1;39m(\u001b[0m\n",
              "\u001b[39m                \u001b[0m\u001b[33minput_variables\u001b[0m\u001b[39m=\u001b[0m\u001b[1;39m[\u001b[0m\u001b[32m'city'\u001b[0m\u001b[1;39m]\u001b[0m\u001b[39m,\u001b[0m\n",
              "\u001b[39m                \u001b[0m\u001b[33minput_types\u001b[0m\u001b[39m=\u001b[0m\u001b[1;39m{\u001b[0m\u001b[1;39m}\u001b[0m\u001b[39m,\u001b[0m\n",
              "\u001b[39m                \u001b[0m\u001b[33mpartial_variables\u001b[0m\u001b[39m=\u001b[0m\u001b[1;39m{\u001b[0m\u001b[1;39m}\u001b[0m\u001b[39m,\u001b[0m\n",
              "\u001b[39m                \u001b[0m\u001b[33mmessages\u001b[0m\u001b[39m=\u001b[0m\u001b[1;39m[\u001b[0m\n",
              "\u001b[39m                    \u001b[0m\u001b[1;35mHumanMessagePromptTemplate\u001b[0m\u001b[1;39m(\u001b[0m\n",
              "\u001b[39m                        \u001b[0m\u001b[33mprompt\u001b[0m\u001b[39m=\u001b[0m\u001b[1;35mPromptTemplate\u001b[0m\u001b[1;39m(\u001b[0m\n",
              "\u001b[39m                            \u001b[0m\u001b[33minput_variables\u001b[0m\u001b[39m=\u001b[0m\u001b[1;39m[\u001b[0m\u001b[32m'city'\u001b[0m\u001b[1;39m]\u001b[0m\u001b[39m,\u001b[0m\n",
              "\u001b[39m                            \u001b[0m\u001b[33minput_types\u001b[0m\u001b[39m=\u001b[0m\u001b[1;39m{\u001b[0m\u001b[1;39m}\u001b[0m\u001b[39m,\u001b[0m\n",
              "\u001b[39m                            \u001b[0m\u001b[33mpartial_variables\u001b[0m\u001b[39m=\u001b[0m\u001b[1;39m{\u001b[0m\u001b[1;39m}\u001b[0m\u001b[39m,\u001b[0m\n",
              "\u001b[39m                            \u001b[0m\u001b[33mtemplate\u001b[0m\u001b[39m=\u001b[0m\u001b[32m'在\u001b[0m\u001b[32m{\u001b[0m\u001b[32mcity\u001b[0m\u001b[32m}\u001b[0m\u001b[32m講哪一種語言？'\u001b[0m\n",
              "\u001b[39m                        \u001b[0m\u001b[1;39m)\u001b[0m\u001b[39m,\u001b[0m\n",
              "\u001b[39m                        \u001b[0m\u001b[33madditional_kwargs\u001b[0m\u001b[39m=\u001b[0m\u001b[1;39m{\u001b[0m\u001b[1;39m}\u001b[0m\n",
              "\u001b[39m                    \u001b[0m\u001b[1;39m)\u001b[0m\n",
              "\u001b[39m                \u001b[0m\u001b[1;39m]\u001b[0m\n",
              "\u001b[39m            \u001b[0m\u001b[1;39m)\u001b[0m\u001b[39m,\u001b[0m\n",
              "\u001b[39m            \u001b[0m\u001b[33mmiddle\u001b[0m\u001b[39m=\u001b[0m\u001b[1;39m[\u001b[0m\n",
              "\u001b[39m                \u001b[0m\u001b[1;35mChatOpenAI\u001b[0m\u001b[1;39m(\u001b[0m\n",
              "\u001b[39m                    \u001b[0m\u001b[33mclient\u001b[0m\u001b[39m=<openai.resources.chat.completions.Completions object at \u001b[0m\u001b[1;36m0x7d359729b6a0\u001b[0m\u001b[39m>,\u001b[0m\n",
              "\u001b[39m                    \u001b[0m\u001b[33masync_client\u001b[0m\u001b[39m=<openai.resources.chat.completions.AsyncCompletions object at \u001b[0m\u001b[1;36m0x7d359752e050\u001b[0m\u001b[39m>,\u001b[0m\n",
              "\u001b[39m                    \u001b[0m\u001b[33mroot_client\u001b[0m\u001b[39m=<openai.OpenAI object at \u001b[0m\u001b[1;36m0x7d35972993c0\u001b[0m\u001b[39m>,\u001b[0m\n",
              "\u001b[39m                    \u001b[0m\u001b[33mroot_async_client\u001b[0m\u001b[39m=<openai.AsyncOpenAI object at \u001b[0m\u001b[1;36m0x7d3597299fc0\u001b[0m\u001b[1m>\u001b[0m,\n",
              "                    \u001b[33mmodel_kwargs\u001b[0m=\u001b[1m{\u001b[0m\u001b[1m}\u001b[0m,\n",
              "                    \u001b[33mopenai_api_key\u001b[0m=\u001b[1;35mSecretStr\u001b[0m\u001b[1m(\u001b[0m\u001b[32m'**********'\u001b[0m\u001b[1m)\u001b[0m\n",
              "                \u001b[1m)\u001b[0m\n",
              "            \u001b[1m]\u001b[0m,\n",
              "            \u001b[33mlast\u001b[0m=\u001b[1;35mStrOutputParser\u001b[0m\u001b[1m(\u001b[0m\u001b[1m)\u001b[0m\n",
              "        \u001b[1m)\u001b[0m\n",
              "    \u001b[1m}\u001b[0m\n",
              "\u001b[1m)\u001b[0m\n"
            ],
            "text/html": [
              "<pre style=\"white-space:pre;overflow-x:auto;line-height:normal;font-family:Menlo,'DejaVu Sans Mono',consolas,'Courier New',monospace\"><span style=\"color: #800080; text-decoration-color: #800080; font-weight: bold\">RunnableParallel</span><span style=\"font-weight: bold\">(</span>\n",
              "    <span style=\"color: #808000; text-decoration-color: #808000\">steps__</span>=<span style=\"font-weight: bold\">{</span>\n",
              "        <span style=\"color: #008000; text-decoration-color: #008000\">'country'</span>: <span style=\"color: #800080; text-decoration-color: #800080; font-weight: bold\">RunnableSequence</span><span style=\"font-weight: bold\">(</span>\n",
              "            <span style=\"color: #808000; text-decoration-color: #808000\">first</span>=<span style=\"color: #800080; text-decoration-color: #800080; font-weight: bold\">ChatPromptTemplate</span><span style=\"font-weight: bold\">(</span>\n",
              "                <span style=\"color: #808000; text-decoration-color: #808000\">input_variables</span>=<span style=\"font-weight: bold\">[</span><span style=\"color: #008000; text-decoration-color: #008000\">'city'</span><span style=\"font-weight: bold\">]</span>,\n",
              "                <span style=\"color: #808000; text-decoration-color: #808000\">input_types</span>=<span style=\"font-weight: bold\">{}</span>,\n",
              "                <span style=\"color: #808000; text-decoration-color: #808000\">partial_variables</span>=<span style=\"font-weight: bold\">{}</span>,\n",
              "                <span style=\"color: #808000; text-decoration-color: #808000\">messages</span>=<span style=\"font-weight: bold\">[</span>\n",
              "                    <span style=\"color: #800080; text-decoration-color: #800080; font-weight: bold\">HumanMessagePromptTemplate</span><span style=\"font-weight: bold\">(</span>\n",
              "                        <span style=\"color: #808000; text-decoration-color: #808000\">prompt</span>=<span style=\"color: #800080; text-decoration-color: #800080; font-weight: bold\">PromptTemplate</span><span style=\"font-weight: bold\">(</span>\n",
              "                            <span style=\"color: #808000; text-decoration-color: #808000\">input_variables</span>=<span style=\"font-weight: bold\">[</span><span style=\"color: #008000; text-decoration-color: #008000\">'city'</span><span style=\"font-weight: bold\">]</span>,\n",
              "                            <span style=\"color: #808000; text-decoration-color: #808000\">input_types</span>=<span style=\"font-weight: bold\">{}</span>,\n",
              "                            <span style=\"color: #808000; text-decoration-color: #808000\">partial_variables</span>=<span style=\"font-weight: bold\">{}</span>,\n",
              "                            <span style=\"color: #808000; text-decoration-color: #808000\">template</span>=<span style=\"color: #008000; text-decoration-color: #008000\">'{city} 位於那一個國家？'</span>\n",
              "                        <span style=\"font-weight: bold\">)</span>,\n",
              "                        <span style=\"color: #808000; text-decoration-color: #808000\">additional_kwargs</span>=<span style=\"font-weight: bold\">{}</span>\n",
              "                    <span style=\"font-weight: bold\">)</span>\n",
              "                <span style=\"font-weight: bold\">]</span>\n",
              "            <span style=\"font-weight: bold\">)</span>,\n",
              "            <span style=\"color: #808000; text-decoration-color: #808000\">middle</span>=<span style=\"font-weight: bold\">[</span>\n",
              "                <span style=\"color: #800080; text-decoration-color: #800080; font-weight: bold\">ChatOpenAI</span><span style=\"font-weight: bold\">(</span>\n",
              "                    <span style=\"color: #808000; text-decoration-color: #808000\">client</span>=<span style=\"font-weight: bold\">&lt;</span><span style=\"color: #ff00ff; text-decoration-color: #ff00ff; font-weight: bold\">openai.resources.chat.completions.Completions</span><span style=\"color: #000000; text-decoration-color: #000000\"> object at </span><span style=\"color: #008080; text-decoration-color: #008080; font-weight: bold\">0x7d359729b6a0</span><span style=\"color: #000000; text-decoration-color: #000000\">&gt;,</span>\n",
              "<span style=\"color: #000000; text-decoration-color: #000000\">                    </span><span style=\"color: #808000; text-decoration-color: #808000\">async_client</span><span style=\"color: #000000; text-decoration-color: #000000\">=&lt;openai.resources.chat.completions.AsyncCompletions object at </span><span style=\"color: #008080; text-decoration-color: #008080; font-weight: bold\">0x7d359752e050</span><span style=\"color: #000000; text-decoration-color: #000000\">&gt;,</span>\n",
              "<span style=\"color: #000000; text-decoration-color: #000000\">                    </span><span style=\"color: #808000; text-decoration-color: #808000\">root_client</span><span style=\"color: #000000; text-decoration-color: #000000\">=&lt;openai.OpenAI object at </span><span style=\"color: #008080; text-decoration-color: #008080; font-weight: bold\">0x7d35972993c0</span><span style=\"color: #000000; text-decoration-color: #000000\">&gt;,</span>\n",
              "<span style=\"color: #000000; text-decoration-color: #000000\">                    </span><span style=\"color: #808000; text-decoration-color: #808000\">root_async_client</span><span style=\"color: #000000; text-decoration-color: #000000\">=&lt;openai.AsyncOpenAI object at </span><span style=\"color: #008080; text-decoration-color: #008080; font-weight: bold\">0x7d3597299fc0</span><span style=\"color: #000000; text-decoration-color: #000000\">&gt;,</span>\n",
              "<span style=\"color: #000000; text-decoration-color: #000000\">                    </span><span style=\"color: #808000; text-decoration-color: #808000\">model_kwargs</span><span style=\"color: #000000; text-decoration-color: #000000\">=</span><span style=\"color: #000000; text-decoration-color: #000000; font-weight: bold\">{}</span><span style=\"color: #000000; text-decoration-color: #000000\">,</span>\n",
              "<span style=\"color: #000000; text-decoration-color: #000000\">                    </span><span style=\"color: #808000; text-decoration-color: #808000\">openai_api_key</span><span style=\"color: #000000; text-decoration-color: #000000\">=</span><span style=\"color: #800080; text-decoration-color: #800080; font-weight: bold\">SecretStr</span><span style=\"color: #000000; text-decoration-color: #000000; font-weight: bold\">(</span><span style=\"color: #008000; text-decoration-color: #008000\">'**********'</span><span style=\"color: #000000; text-decoration-color: #000000; font-weight: bold\">)</span>\n",
              "<span style=\"color: #000000; text-decoration-color: #000000\">                </span><span style=\"color: #000000; text-decoration-color: #000000; font-weight: bold\">)</span>\n",
              "<span style=\"color: #000000; text-decoration-color: #000000\">            </span><span style=\"color: #000000; text-decoration-color: #000000; font-weight: bold\">]</span><span style=\"color: #000000; text-decoration-color: #000000\">,</span>\n",
              "<span style=\"color: #000000; text-decoration-color: #000000\">            </span><span style=\"color: #808000; text-decoration-color: #808000\">last</span><span style=\"color: #000000; text-decoration-color: #000000\">=</span><span style=\"color: #800080; text-decoration-color: #800080; font-weight: bold\">StrOutputParser</span><span style=\"color: #000000; text-decoration-color: #000000; font-weight: bold\">()</span>\n",
              "<span style=\"color: #000000; text-decoration-color: #000000\">        </span><span style=\"color: #000000; text-decoration-color: #000000; font-weight: bold\">)</span><span style=\"color: #000000; text-decoration-color: #000000\">,</span>\n",
              "<span style=\"color: #000000; text-decoration-color: #000000\">        </span><span style=\"color: #008000; text-decoration-color: #008000\">'lang'</span><span style=\"color: #000000; text-decoration-color: #000000\">: </span><span style=\"color: #800080; text-decoration-color: #800080; font-weight: bold\">RunnableSequence</span><span style=\"color: #000000; text-decoration-color: #000000; font-weight: bold\">(</span>\n",
              "<span style=\"color: #000000; text-decoration-color: #000000\">            </span><span style=\"color: #808000; text-decoration-color: #808000\">first</span><span style=\"color: #000000; text-decoration-color: #000000\">=</span><span style=\"color: #800080; text-decoration-color: #800080; font-weight: bold\">ChatPromptTemplate</span><span style=\"color: #000000; text-decoration-color: #000000; font-weight: bold\">(</span>\n",
              "<span style=\"color: #000000; text-decoration-color: #000000\">                </span><span style=\"color: #808000; text-decoration-color: #808000\">input_variables</span><span style=\"color: #000000; text-decoration-color: #000000\">=</span><span style=\"color: #000000; text-decoration-color: #000000; font-weight: bold\">[</span><span style=\"color: #008000; text-decoration-color: #008000\">'city'</span><span style=\"color: #000000; text-decoration-color: #000000; font-weight: bold\">]</span><span style=\"color: #000000; text-decoration-color: #000000\">,</span>\n",
              "<span style=\"color: #000000; text-decoration-color: #000000\">                </span><span style=\"color: #808000; text-decoration-color: #808000\">input_types</span><span style=\"color: #000000; text-decoration-color: #000000\">=</span><span style=\"color: #000000; text-decoration-color: #000000; font-weight: bold\">{}</span><span style=\"color: #000000; text-decoration-color: #000000\">,</span>\n",
              "<span style=\"color: #000000; text-decoration-color: #000000\">                </span><span style=\"color: #808000; text-decoration-color: #808000\">partial_variables</span><span style=\"color: #000000; text-decoration-color: #000000\">=</span><span style=\"color: #000000; text-decoration-color: #000000; font-weight: bold\">{}</span><span style=\"color: #000000; text-decoration-color: #000000\">,</span>\n",
              "<span style=\"color: #000000; text-decoration-color: #000000\">                </span><span style=\"color: #808000; text-decoration-color: #808000\">messages</span><span style=\"color: #000000; text-decoration-color: #000000\">=</span><span style=\"color: #000000; text-decoration-color: #000000; font-weight: bold\">[</span>\n",
              "<span style=\"color: #000000; text-decoration-color: #000000\">                    </span><span style=\"color: #800080; text-decoration-color: #800080; font-weight: bold\">HumanMessagePromptTemplate</span><span style=\"color: #000000; text-decoration-color: #000000; font-weight: bold\">(</span>\n",
              "<span style=\"color: #000000; text-decoration-color: #000000\">                        </span><span style=\"color: #808000; text-decoration-color: #808000\">prompt</span><span style=\"color: #000000; text-decoration-color: #000000\">=</span><span style=\"color: #800080; text-decoration-color: #800080; font-weight: bold\">PromptTemplate</span><span style=\"color: #000000; text-decoration-color: #000000; font-weight: bold\">(</span>\n",
              "<span style=\"color: #000000; text-decoration-color: #000000\">                            </span><span style=\"color: #808000; text-decoration-color: #808000\">input_variables</span><span style=\"color: #000000; text-decoration-color: #000000\">=</span><span style=\"color: #000000; text-decoration-color: #000000; font-weight: bold\">[</span><span style=\"color: #008000; text-decoration-color: #008000\">'city'</span><span style=\"color: #000000; text-decoration-color: #000000; font-weight: bold\">]</span><span style=\"color: #000000; text-decoration-color: #000000\">,</span>\n",
              "<span style=\"color: #000000; text-decoration-color: #000000\">                            </span><span style=\"color: #808000; text-decoration-color: #808000\">input_types</span><span style=\"color: #000000; text-decoration-color: #000000\">=</span><span style=\"color: #000000; text-decoration-color: #000000; font-weight: bold\">{}</span><span style=\"color: #000000; text-decoration-color: #000000\">,</span>\n",
              "<span style=\"color: #000000; text-decoration-color: #000000\">                            </span><span style=\"color: #808000; text-decoration-color: #808000\">partial_variables</span><span style=\"color: #000000; text-decoration-color: #000000\">=</span><span style=\"color: #000000; text-decoration-color: #000000; font-weight: bold\">{}</span><span style=\"color: #000000; text-decoration-color: #000000\">,</span>\n",
              "<span style=\"color: #000000; text-decoration-color: #000000\">                            </span><span style=\"color: #808000; text-decoration-color: #808000\">template</span><span style=\"color: #000000; text-decoration-color: #000000\">=</span><span style=\"color: #008000; text-decoration-color: #008000\">'在{city}講哪一種語言？'</span>\n",
              "<span style=\"color: #000000; text-decoration-color: #000000\">                        </span><span style=\"color: #000000; text-decoration-color: #000000; font-weight: bold\">)</span><span style=\"color: #000000; text-decoration-color: #000000\">,</span>\n",
              "<span style=\"color: #000000; text-decoration-color: #000000\">                        </span><span style=\"color: #808000; text-decoration-color: #808000\">additional_kwargs</span><span style=\"color: #000000; text-decoration-color: #000000\">=</span><span style=\"color: #000000; text-decoration-color: #000000; font-weight: bold\">{}</span>\n",
              "<span style=\"color: #000000; text-decoration-color: #000000\">                    </span><span style=\"color: #000000; text-decoration-color: #000000; font-weight: bold\">)</span>\n",
              "<span style=\"color: #000000; text-decoration-color: #000000\">                </span><span style=\"color: #000000; text-decoration-color: #000000; font-weight: bold\">]</span>\n",
              "<span style=\"color: #000000; text-decoration-color: #000000\">            </span><span style=\"color: #000000; text-decoration-color: #000000; font-weight: bold\">)</span><span style=\"color: #000000; text-decoration-color: #000000\">,</span>\n",
              "<span style=\"color: #000000; text-decoration-color: #000000\">            </span><span style=\"color: #808000; text-decoration-color: #808000\">middle</span><span style=\"color: #000000; text-decoration-color: #000000\">=</span><span style=\"color: #000000; text-decoration-color: #000000; font-weight: bold\">[</span>\n",
              "<span style=\"color: #000000; text-decoration-color: #000000\">                </span><span style=\"color: #800080; text-decoration-color: #800080; font-weight: bold\">ChatOpenAI</span><span style=\"color: #000000; text-decoration-color: #000000; font-weight: bold\">(</span>\n",
              "<span style=\"color: #000000; text-decoration-color: #000000\">                    </span><span style=\"color: #808000; text-decoration-color: #808000\">client</span><span style=\"color: #000000; text-decoration-color: #000000\">=&lt;openai.resources.chat.completions.Completions object at </span><span style=\"color: #008080; text-decoration-color: #008080; font-weight: bold\">0x7d359729b6a0</span><span style=\"color: #000000; text-decoration-color: #000000\">&gt;,</span>\n",
              "<span style=\"color: #000000; text-decoration-color: #000000\">                    </span><span style=\"color: #808000; text-decoration-color: #808000\">async_client</span><span style=\"color: #000000; text-decoration-color: #000000\">=&lt;openai.resources.chat.completions.AsyncCompletions object at </span><span style=\"color: #008080; text-decoration-color: #008080; font-weight: bold\">0x7d359752e050</span><span style=\"color: #000000; text-decoration-color: #000000\">&gt;,</span>\n",
              "<span style=\"color: #000000; text-decoration-color: #000000\">                    </span><span style=\"color: #808000; text-decoration-color: #808000\">root_client</span><span style=\"color: #000000; text-decoration-color: #000000\">=&lt;openai.OpenAI object at </span><span style=\"color: #008080; text-decoration-color: #008080; font-weight: bold\">0x7d35972993c0</span><span style=\"color: #000000; text-decoration-color: #000000\">&gt;,</span>\n",
              "<span style=\"color: #000000; text-decoration-color: #000000\">                    </span><span style=\"color: #808000; text-decoration-color: #808000\">root_async_client</span><span style=\"color: #000000; text-decoration-color: #000000\">=&lt;openai.AsyncOpenAI object at </span><span style=\"color: #008080; text-decoration-color: #008080; font-weight: bold\">0x7d3597299fc0</span><span style=\"font-weight: bold\">&gt;</span>,\n",
              "                    <span style=\"color: #808000; text-decoration-color: #808000\">model_kwargs</span>=<span style=\"font-weight: bold\">{}</span>,\n",
              "                    <span style=\"color: #808000; text-decoration-color: #808000\">openai_api_key</span>=<span style=\"color: #800080; text-decoration-color: #800080; font-weight: bold\">SecretStr</span><span style=\"font-weight: bold\">(</span><span style=\"color: #008000; text-decoration-color: #008000\">'**********'</span><span style=\"font-weight: bold\">)</span>\n",
              "                <span style=\"font-weight: bold\">)</span>\n",
              "            <span style=\"font-weight: bold\">]</span>,\n",
              "            <span style=\"color: #808000; text-decoration-color: #808000\">last</span>=<span style=\"color: #800080; text-decoration-color: #800080; font-weight: bold\">StrOutputParser</span><span style=\"font-weight: bold\">()</span>\n",
              "        <span style=\"font-weight: bold\">)</span>\n",
              "    <span style=\"font-weight: bold\">}</span>\n",
              "<span style=\"font-weight: bold\">)</span>\n",
              "</pre>\n"
            ]
          },
          "metadata": {}
        }
      ]
    },
    {
      "cell_type": "code",
      "source": [
        "find_country_and_lang_chain = RunnableParallel({\n",
        "    'country': find_country_chain,\n",
        "    'lang': find_lang_chain\n",
        "})\n",
        "find_country_and_lang_chain.invoke({'city': '台南'})"
      ],
      "metadata": {
        "colab": {
          "base_uri": "https://localhost:8080/"
        },
        "id": "BzJtXDlIiBeh",
        "outputId": "86eba353-92e5-4c24-8d9b-4ed310d245ab"
      },
      "execution_count": 65,
      "outputs": [
        {
          "output_type": "execute_result",
          "data": {
            "text/plain": [
              "{'country': '台南位於台灣。',\n",
              " 'lang': '在台南以台語和華語為主要的使用語言。台語是當地的方言，而華語則是普遍使用的官方語言。此外，由於台南是一個歷史悠久的城市，也有一些人會使用一些古老的語言或方言與族群語言。'}"
            ]
          },
          "metadata": {},
          "execution_count": 65
        }
      ]
    },
    {
      "cell_type": "code",
      "source": [
        "summary_template = ChatPromptTemplate.from_template('{country}{lang}')\n",
        "summary_chain = (\n",
        "    {\n",
        "        'country': find_country_chain,\n",
        "        'lang': find_lang_chain\n",
        "    }\n",
        "    | summary_template)\n",
        "pprint(summary_chain.invoke({'city': '釜山'}))"
      ],
      "metadata": {
        "colab": {
          "base_uri": "https://localhost:8080/",
          "height": 191
        },
        "id": "PklYepnkkdZe",
        "outputId": "1a65451f-e3a1-43ed-bbab-4085ac6a5eae"
      },
      "execution_count": 66,
      "outputs": [
        {
          "output_type": "display_data",
          "data": {
            "text/plain": [
              "\u001b[1;35mChatPromptValue\u001b[0m\u001b[1m(\u001b[0m\n",
              "    \u001b[33mmessages\u001b[0m=\u001b[1m[\u001b[0m\n",
              "        \u001b[1;35mHumanMessage\u001b[0m\u001b[1m(\u001b[0m\n",
              "            \u001b[33mcontent\u001b[0m=\u001b[32m'釜山（Busan）位於韓國。在釜山，韓語是主要使用的語言。當地居民通常使用韓語進行日常交流和溝通。\u001b[0m\n",
              "\u001b[32m然而，由於釜山是一個熱門的旅遊目的地，因此也可以在一些觀光景點和飯店等地方遇到會說英語的人。'\u001b[0m,\n",
              "            \u001b[33madditional_kwargs\u001b[0m=\u001b[1m{\u001b[0m\u001b[1m}\u001b[0m,\n",
              "            \u001b[33mresponse_metadata\u001b[0m=\u001b[1m{\u001b[0m\u001b[1m}\u001b[0m\n",
              "        \u001b[1m)\u001b[0m\n",
              "    \u001b[1m]\u001b[0m\n",
              "\u001b[1m)\u001b[0m\n"
            ],
            "text/html": [
              "<pre style=\"white-space:pre;overflow-x:auto;line-height:normal;font-family:Menlo,'DejaVu Sans Mono',consolas,'Courier New',monospace\"><span style=\"color: #800080; text-decoration-color: #800080; font-weight: bold\">ChatPromptValue</span><span style=\"font-weight: bold\">(</span>\n",
              "    <span style=\"color: #808000; text-decoration-color: #808000\">messages</span>=<span style=\"font-weight: bold\">[</span>\n",
              "        <span style=\"color: #800080; text-decoration-color: #800080; font-weight: bold\">HumanMessage</span><span style=\"font-weight: bold\">(</span>\n",
              "            <span style=\"color: #808000; text-decoration-color: #808000\">content</span>=<span style=\"color: #008000; text-decoration-color: #008000\">'釜山（Busan）位於韓國。在釜山，韓語是主要使用的語言。當地居民通常使用韓語進行日常交流和溝通。</span>\n",
              "<span style=\"color: #008000; text-decoration-color: #008000\">然而，由於釜山是一個熱門的旅遊目的地，因此也可以在一些觀光景點和飯店等地方遇到會說英語的人。'</span>,\n",
              "            <span style=\"color: #808000; text-decoration-color: #808000\">additional_kwargs</span>=<span style=\"font-weight: bold\">{}</span>,\n",
              "            <span style=\"color: #808000; text-decoration-color: #808000\">response_metadata</span>=<span style=\"font-weight: bold\">{}</span>\n",
              "        <span style=\"font-weight: bold\">)</span>\n",
              "    <span style=\"font-weight: bold\">]</span>\n",
              "<span style=\"font-weight: bold\">)</span>\n",
              "</pre>\n"
            ]
          },
          "metadata": {}
        }
      ]
    },
    {
      "cell_type": "markdown",
      "source": [
        "錯誤示範"
      ],
      "metadata": {
        "id": "wx0SMpAFkmtQ"
      }
    },
    {
      "cell_type": "code",
      "source": [
        "error_chain = {'key': 'hello'} | summary_template"
      ],
      "metadata": {
        "colab": {
          "base_uri": "https://localhost:8080/",
          "height": 287
        },
        "id": "sU97E1abkjQF",
        "outputId": "25841431-7654-4dd3-c933-96551795a2dc"
      },
      "execution_count": 67,
      "outputs": [
        {
          "output_type": "error",
          "ename": "TypeError",
          "evalue": "Expected a Runnable, callable or dict.Instead got an unsupported type: <class 'str'>",
          "traceback": [
            "\u001b[0;31m---------------------------------------------------------------------------\u001b[0m",
            "\u001b[0;31mTypeError\u001b[0m                                 Traceback (most recent call last)",
            "\u001b[0;32m<ipython-input-67-5482ab8bdfcc>\u001b[0m in \u001b[0;36m<cell line: 1>\u001b[0;34m()\u001b[0m\n\u001b[0;32m----> 1\u001b[0;31m \u001b[0merror_chain\u001b[0m \u001b[0;34m=\u001b[0m \u001b[0;34m{\u001b[0m\u001b[0;34m'key'\u001b[0m\u001b[0;34m:\u001b[0m \u001b[0;34m'hello'\u001b[0m\u001b[0;34m}\u001b[0m \u001b[0;34m|\u001b[0m \u001b[0msummary_template\u001b[0m\u001b[0;34m\u001b[0m\u001b[0;34m\u001b[0m\u001b[0m\n\u001b[0m",
            "\u001b[0;32m/usr/local/lib/python3.10/dist-packages/langchain_core/runnables/base.py\u001b[0m in \u001b[0;36m__ror__\u001b[0;34m(self, other)\u001b[0m\n\u001b[1;32m    585\u001b[0m     ) -> RunnableSerializable[Other, Output]:\n\u001b[1;32m    586\u001b[0m         \u001b[0;34m\"\"\"Compose this Runnable with another object to create a RunnableSequence.\"\"\"\u001b[0m\u001b[0;34m\u001b[0m\u001b[0;34m\u001b[0m\u001b[0m\n\u001b[0;32m--> 587\u001b[0;31m         \u001b[0;32mreturn\u001b[0m \u001b[0mRunnableSequence\u001b[0m\u001b[0;34m(\u001b[0m\u001b[0mcoerce_to_runnable\u001b[0m\u001b[0;34m(\u001b[0m\u001b[0mother\u001b[0m\u001b[0;34m)\u001b[0m\u001b[0;34m,\u001b[0m \u001b[0mself\u001b[0m\u001b[0;34m)\u001b[0m\u001b[0;34m\u001b[0m\u001b[0;34m\u001b[0m\u001b[0m\n\u001b[0m\u001b[1;32m    588\u001b[0m \u001b[0;34m\u001b[0m\u001b[0m\n\u001b[1;32m    589\u001b[0m     def pipe(\n",
            "\u001b[0;32m/usr/local/lib/python3.10/dist-packages/langchain_core/runnables/base.py\u001b[0m in \u001b[0;36mcoerce_to_runnable\u001b[0;34m(thing)\u001b[0m\n\u001b[1;32m   5833\u001b[0m         \u001b[0;32mreturn\u001b[0m \u001b[0mRunnableLambda\u001b[0m\u001b[0;34m(\u001b[0m\u001b[0mcast\u001b[0m\u001b[0;34m(\u001b[0m\u001b[0mCallable\u001b[0m\u001b[0;34m[\u001b[0m\u001b[0;34m[\u001b[0m\u001b[0mInput\u001b[0m\u001b[0;34m]\u001b[0m\u001b[0;34m,\u001b[0m \u001b[0mOutput\u001b[0m\u001b[0;34m]\u001b[0m\u001b[0;34m,\u001b[0m \u001b[0mthing\u001b[0m\u001b[0;34m)\u001b[0m\u001b[0;34m)\u001b[0m\u001b[0;34m\u001b[0m\u001b[0;34m\u001b[0m\u001b[0m\n\u001b[1;32m   5834\u001b[0m     \u001b[0;32melif\u001b[0m \u001b[0misinstance\u001b[0m\u001b[0;34m(\u001b[0m\u001b[0mthing\u001b[0m\u001b[0;34m,\u001b[0m \u001b[0mdict\u001b[0m\u001b[0;34m)\u001b[0m\u001b[0;34m:\u001b[0m\u001b[0;34m\u001b[0m\u001b[0;34m\u001b[0m\u001b[0m\n\u001b[0;32m-> 5835\u001b[0;31m         \u001b[0;32mreturn\u001b[0m \u001b[0mcast\u001b[0m\u001b[0;34m(\u001b[0m\u001b[0mRunnable\u001b[0m\u001b[0;34m[\u001b[0m\u001b[0mInput\u001b[0m\u001b[0;34m,\u001b[0m \u001b[0mOutput\u001b[0m\u001b[0;34m]\u001b[0m\u001b[0;34m,\u001b[0m \u001b[0mRunnableParallel\u001b[0m\u001b[0;34m(\u001b[0m\u001b[0mthing\u001b[0m\u001b[0;34m)\u001b[0m\u001b[0;34m)\u001b[0m\u001b[0;34m\u001b[0m\u001b[0;34m\u001b[0m\u001b[0m\n\u001b[0m\u001b[1;32m   5836\u001b[0m     \u001b[0;32melse\u001b[0m\u001b[0;34m:\u001b[0m\u001b[0;34m\u001b[0m\u001b[0;34m\u001b[0m\u001b[0m\n\u001b[1;32m   5837\u001b[0m         msg = (\n",
            "\u001b[0;32m/usr/local/lib/python3.10/dist-packages/langchain_core/runnables/base.py\u001b[0m in \u001b[0;36m__init__\u001b[0;34m(self, steps__, **kwargs)\u001b[0m\n\u001b[1;32m   3535\u001b[0m         \u001b[0mmerged\u001b[0m\u001b[0;34m.\u001b[0m\u001b[0mupdate\u001b[0m\u001b[0;34m(\u001b[0m\u001b[0mkwargs\u001b[0m\u001b[0;34m)\u001b[0m\u001b[0;34m\u001b[0m\u001b[0;34m\u001b[0m\u001b[0m\n\u001b[1;32m   3536\u001b[0m         super().__init__(  # type: ignore[call-arg]\n\u001b[0;32m-> 3537\u001b[0;31m             \u001b[0msteps__\u001b[0m\u001b[0;34m=\u001b[0m\u001b[0;34m{\u001b[0m\u001b[0mkey\u001b[0m\u001b[0;34m:\u001b[0m \u001b[0mcoerce_to_runnable\u001b[0m\u001b[0;34m(\u001b[0m\u001b[0mr\u001b[0m\u001b[0;34m)\u001b[0m \u001b[0;32mfor\u001b[0m \u001b[0mkey\u001b[0m\u001b[0;34m,\u001b[0m \u001b[0mr\u001b[0m \u001b[0;32min\u001b[0m \u001b[0mmerged\u001b[0m\u001b[0;34m.\u001b[0m\u001b[0mitems\u001b[0m\u001b[0;34m(\u001b[0m\u001b[0;34m)\u001b[0m\u001b[0;34m}\u001b[0m\u001b[0;34m\u001b[0m\u001b[0;34m\u001b[0m\u001b[0m\n\u001b[0m\u001b[1;32m   3538\u001b[0m         )\n\u001b[1;32m   3539\u001b[0m \u001b[0;34m\u001b[0m\u001b[0m\n",
            "\u001b[0;32m/usr/local/lib/python3.10/dist-packages/langchain_core/runnables/base.py\u001b[0m in \u001b[0;36m<dictcomp>\u001b[0;34m(.0)\u001b[0m\n\u001b[1;32m   3535\u001b[0m         \u001b[0mmerged\u001b[0m\u001b[0;34m.\u001b[0m\u001b[0mupdate\u001b[0m\u001b[0;34m(\u001b[0m\u001b[0mkwargs\u001b[0m\u001b[0;34m)\u001b[0m\u001b[0;34m\u001b[0m\u001b[0;34m\u001b[0m\u001b[0m\n\u001b[1;32m   3536\u001b[0m         super().__init__(  # type: ignore[call-arg]\n\u001b[0;32m-> 3537\u001b[0;31m             \u001b[0msteps__\u001b[0m\u001b[0;34m=\u001b[0m\u001b[0;34m{\u001b[0m\u001b[0mkey\u001b[0m\u001b[0;34m:\u001b[0m \u001b[0mcoerce_to_runnable\u001b[0m\u001b[0;34m(\u001b[0m\u001b[0mr\u001b[0m\u001b[0;34m)\u001b[0m \u001b[0;32mfor\u001b[0m \u001b[0mkey\u001b[0m\u001b[0;34m,\u001b[0m \u001b[0mr\u001b[0m \u001b[0;32min\u001b[0m \u001b[0mmerged\u001b[0m\u001b[0;34m.\u001b[0m\u001b[0mitems\u001b[0m\u001b[0;34m(\u001b[0m\u001b[0;34m)\u001b[0m\u001b[0;34m}\u001b[0m\u001b[0;34m\u001b[0m\u001b[0;34m\u001b[0m\u001b[0m\n\u001b[0m\u001b[1;32m   3538\u001b[0m         )\n\u001b[1;32m   3539\u001b[0m \u001b[0;34m\u001b[0m\u001b[0m\n",
            "\u001b[0;32m/usr/local/lib/python3.10/dist-packages/langchain_core/runnables/base.py\u001b[0m in \u001b[0;36mcoerce_to_runnable\u001b[0;34m(thing)\u001b[0m\n\u001b[1;32m   5839\u001b[0m             \u001b[0;34mf\"Instead got an unsupported type: {type(thing)}\"\u001b[0m\u001b[0;34m\u001b[0m\u001b[0;34m\u001b[0m\u001b[0m\n\u001b[1;32m   5840\u001b[0m         )\n\u001b[0;32m-> 5841\u001b[0;31m         \u001b[0;32mraise\u001b[0m \u001b[0mTypeError\u001b[0m\u001b[0;34m(\u001b[0m\u001b[0mmsg\u001b[0m\u001b[0;34m)\u001b[0m\u001b[0;34m\u001b[0m\u001b[0;34m\u001b[0m\u001b[0m\n\u001b[0m\u001b[1;32m   5842\u001b[0m \u001b[0;34m\u001b[0m\u001b[0m\n\u001b[1;32m   5843\u001b[0m \u001b[0;34m\u001b[0m\u001b[0m\n",
            "\u001b[0;31mTypeError\u001b[0m: Expected a Runnable, callable or dict.Instead got an unsupported type: <class 'str'>"
          ]
        }
      ]
    },
    {
      "cell_type": "markdown",
      "source": [
        "## 3-2 LCEL 實用功能"
      ],
      "metadata": {
        "id": "cz50acdYNr6A"
      }
    },
    {
      "cell_type": "markdown",
      "source": [
        "### | 串接可呼叫物件"
      ],
      "metadata": {
        "id": "tB0r-qDKNQ2P"
      }
    },
    {
      "cell_type": "code",
      "source": [
        "from operator import attrgetter\n",
        "get_messages = attrgetter('messages')\n",
        "from operator import itemgetter\n",
        "get_first_item = itemgetter(0)"
      ],
      "metadata": {
        "id": "Kh8p9xsYwxFv"
      },
      "execution_count": 68,
      "outputs": []
    },
    {
      "cell_type": "code",
      "source": [
        "summary = (summary_chain\n",
        "           | get_messages\n",
        "           | get_first_item\n",
        "           | str_parser)\n",
        "summary.invoke({'city': '釜山'})"
      ],
      "metadata": {
        "id": "xIyzLfxHwygT",
        "colab": {
          "base_uri": "https://localhost:8080/",
          "height": 35
        },
        "outputId": "1157d910-af11-4dcf-c9b8-cf007f53dcf0"
      },
      "execution_count": 69,
      "outputs": [
        {
          "output_type": "execute_result",
          "data": {
            "text/plain": [
              "'釜山位於南韓。在釜山，人們主要講韓語。因為釜山位於韓國南部，所以韓語是當地使用最廣泛的語言。此外，也有少數人口會使用英語或其他外語。'"
            ],
            "application/vnd.google.colaboratory.intrinsic+json": {
              "type": "string"
            }
          },
          "metadata": {},
          "execution_count": 69
        }
      ]
    },
    {
      "cell_type": "markdown",
      "source": [
        "### 使用 RunnablePassthrough\n",
        "\n",
        "https://python.langchain.com/v0.1/docs/expression_language/primitives/passthrough/\n"
      ],
      "metadata": {
        "id": "qXq9YHOwNUc_"
      }
    },
    {
      "cell_type": "code",
      "source": [
        "from langchain_core.runnables import RunnableParallel, RunnablePassthrough\n",
        "\n",
        "runnable = RunnableParallel(\n",
        "    passed=RunnablePassthrough(),\n",
        "    modified=lambda x: x[\"num\"] + 1,\n",
        ")\n",
        "\n",
        "runnable.invoke({\"num\": 1})"
      ],
      "metadata": {
        "colab": {
          "base_uri": "https://localhost:8080/"
        },
        "id": "kKYi9y5-yUFO",
        "outputId": "35b2064c-8902-43e9-84c5-dd54424faf73"
      },
      "execution_count": 70,
      "outputs": [
        {
          "output_type": "execute_result",
          "data": {
            "text/plain": [
              "{'passed': {'num': 1}, 'modified': 2}"
            ]
          },
          "metadata": {},
          "execution_count": 70
        }
      ]
    },
    {
      "cell_type": "markdown",
      "source": [
        "### RunnableBinding"
      ],
      "metadata": {
        "id": "1muHzzOcWbdJ"
      }
    },
    {
      "cell_type": "markdown",
      "source": [
        "指定額外參數(Ex: bind(stop=[]))"
      ],
      "metadata": {
        "id": "oZIJGYL4YEx4"
      }
    },
    {
      "cell_type": "code",
      "source": [
        "chain = ({\"city\": RunnablePassthrough()}\n",
        "         | prompt.bind()\n",
        "         | chat_model.bind(stop=[\"台灣\",\"臺灣\"])\n",
        "         | str_parser)\n",
        "print(chain.invoke(\"台北\"))"
      ],
      "metadata": {
        "id": "cTwlpAPnYJYr",
        "colab": {
          "base_uri": "https://localhost:8080/"
        },
        "outputId": "fe7df3cf-645d-47b9-d2cf-20a8fe984d5a"
      },
      "execution_count": 71,
      "outputs": [
        {
          "output_type": "stream",
          "name": "stdout",
          "text": [
            "台北位於\n"
          ]
        }
      ]
    },
    {
      "cell_type": "markdown",
      "source": [
        "### OpenAI function_calling"
      ],
      "metadata": {
        "id": "GblY0YqGX6qG"
      }
    },
    {
      "cell_type": "code",
      "source": [
        "from pydantic import BaseModel, Field\n",
        "class Search(BaseModel):\n",
        "    \"\"\"網路搜尋工具\"\"\"\n",
        "    search_input: str = Field(description=\"應該要搜尋的關鍵字\")"
      ],
      "metadata": {
        "id": "Pu6yMiM2ltR5"
      },
      "execution_count": 72,
      "outputs": []
    },
    {
      "cell_type": "code",
      "source": [
        "model = chat_model.bind_tools([Search])\n",
        "pprint(model.kwargs[\"tools\"])"
      ],
      "metadata": {
        "id": "Km0_FRnnpZsA",
        "colab": {
          "base_uri": "https://localhost:8080/",
          "height": 0
        },
        "outputId": "b5fd1617-139e-4b7e-8d7d-747580198378"
      },
      "execution_count": 73,
      "outputs": [
        {
          "output_type": "display_data",
          "data": {
            "text/plain": [
              "\u001b[1m[\u001b[0m\n",
              "    \u001b[1m{\u001b[0m\n",
              "        \u001b[32m'type'\u001b[0m: \u001b[32m'function'\u001b[0m,\n",
              "        \u001b[32m'function'\u001b[0m: \u001b[1m{\u001b[0m\n",
              "            \u001b[32m'name'\u001b[0m: \u001b[32m'Search'\u001b[0m,\n",
              "            \u001b[32m'description'\u001b[0m: \u001b[32m'網路搜尋工具'\u001b[0m,\n",
              "            \u001b[32m'parameters'\u001b[0m: \u001b[1m{\u001b[0m\n",
              "                \u001b[32m'properties'\u001b[0m: \u001b[1m{\u001b[0m\u001b[32m'search_input'\u001b[0m: \u001b[1m{\u001b[0m\u001b[32m'description'\u001b[0m: \u001b[32m'應該要搜尋的關鍵字'\u001b[0m, \u001b[32m'type'\u001b[0m: \u001b[32m'string'\u001b[0m\u001b[1m}\u001b[0m\u001b[1m}\u001b[0m,\n",
              "                \u001b[32m'required'\u001b[0m: \u001b[1m[\u001b[0m\u001b[32m'search_input'\u001b[0m\u001b[1m]\u001b[0m,\n",
              "                \u001b[32m'type'\u001b[0m: \u001b[32m'object'\u001b[0m\n",
              "            \u001b[1m}\u001b[0m\n",
              "        \u001b[1m}\u001b[0m\n",
              "    \u001b[1m}\u001b[0m\n",
              "\u001b[1m]\u001b[0m\n"
            ],
            "text/html": [
              "<pre style=\"white-space:pre;overflow-x:auto;line-height:normal;font-family:Menlo,'DejaVu Sans Mono',consolas,'Courier New',monospace\"><span style=\"font-weight: bold\">[</span>\n",
              "    <span style=\"font-weight: bold\">{</span>\n",
              "        <span style=\"color: #008000; text-decoration-color: #008000\">'type'</span>: <span style=\"color: #008000; text-decoration-color: #008000\">'function'</span>,\n",
              "        <span style=\"color: #008000; text-decoration-color: #008000\">'function'</span>: <span style=\"font-weight: bold\">{</span>\n",
              "            <span style=\"color: #008000; text-decoration-color: #008000\">'name'</span>: <span style=\"color: #008000; text-decoration-color: #008000\">'Search'</span>,\n",
              "            <span style=\"color: #008000; text-decoration-color: #008000\">'description'</span>: <span style=\"color: #008000; text-decoration-color: #008000\">'網路搜尋工具'</span>,\n",
              "            <span style=\"color: #008000; text-decoration-color: #008000\">'parameters'</span>: <span style=\"font-weight: bold\">{</span>\n",
              "                <span style=\"color: #008000; text-decoration-color: #008000\">'properties'</span>: <span style=\"font-weight: bold\">{</span><span style=\"color: #008000; text-decoration-color: #008000\">'search_input'</span>: <span style=\"font-weight: bold\">{</span><span style=\"color: #008000; text-decoration-color: #008000\">'description'</span>: <span style=\"color: #008000; text-decoration-color: #008000\">'應該要搜尋的關鍵字'</span>, <span style=\"color: #008000; text-decoration-color: #008000\">'type'</span>: <span style=\"color: #008000; text-decoration-color: #008000\">'string'</span><span style=\"font-weight: bold\">}}</span>,\n",
              "                <span style=\"color: #008000; text-decoration-color: #008000\">'required'</span>: <span style=\"font-weight: bold\">[</span><span style=\"color: #008000; text-decoration-color: #008000\">'search_input'</span><span style=\"font-weight: bold\">]</span>,\n",
              "                <span style=\"color: #008000; text-decoration-color: #008000\">'type'</span>: <span style=\"color: #008000; text-decoration-color: #008000\">'object'</span>\n",
              "            <span style=\"font-weight: bold\">}</span>\n",
              "        <span style=\"font-weight: bold\">}</span>\n",
              "    <span style=\"font-weight: bold\">}</span>\n",
              "<span style=\"font-weight: bold\">]</span>\n",
              "</pre>\n"
            ]
          },
          "metadata": {}
        }
      ]
    },
    {
      "cell_type": "code",
      "source": [
        "prompt = PromptTemplate.from_template(\"{city}位於哪個國家?\")\n",
        "chain = ({\"city\": RunnablePassthrough()}\n",
        "         | prompt\n",
        "         | model)\n",
        "pprint(chain.invoke(\"台北\").tool_calls)"
      ],
      "metadata": {
        "id": "4El7wgaudquX",
        "colab": {
          "base_uri": "https://localhost:8080/",
          "height": 0
        },
        "outputId": "9e400026-532e-4aaf-d46b-2f16229e6a55"
      },
      "execution_count": 74,
      "outputs": [
        {
          "output_type": "display_data",
          "data": {
            "text/plain": [
              "\u001b[1m[\u001b[0m\n",
              "    \u001b[1m{\u001b[0m\n",
              "        \u001b[32m'name'\u001b[0m: \u001b[32m'Search'\u001b[0m,\n",
              "        \u001b[32m'args'\u001b[0m: \u001b[1m{\u001b[0m\u001b[32m'search_input'\u001b[0m: \u001b[32m'台北所在國家'\u001b[0m\u001b[1m}\u001b[0m,\n",
              "        \u001b[32m'id'\u001b[0m: \u001b[32m'call_uwd6scxY0eND3e26pL5moIp8'\u001b[0m,\n",
              "        \u001b[32m'type'\u001b[0m: \u001b[32m'tool_call'\u001b[0m\n",
              "    \u001b[1m}\u001b[0m\n",
              "\u001b[1m]\u001b[0m\n"
            ],
            "text/html": [
              "<pre style=\"white-space:pre;overflow-x:auto;line-height:normal;font-family:Menlo,'DejaVu Sans Mono',consolas,'Courier New',monospace\"><span style=\"font-weight: bold\">[</span>\n",
              "    <span style=\"font-weight: bold\">{</span>\n",
              "        <span style=\"color: #008000; text-decoration-color: #008000\">'name'</span>: <span style=\"color: #008000; text-decoration-color: #008000\">'Search'</span>,\n",
              "        <span style=\"color: #008000; text-decoration-color: #008000\">'args'</span>: <span style=\"font-weight: bold\">{</span><span style=\"color: #008000; text-decoration-color: #008000\">'search_input'</span>: <span style=\"color: #008000; text-decoration-color: #008000\">'台北所在國家'</span><span style=\"font-weight: bold\">}</span>,\n",
              "        <span style=\"color: #008000; text-decoration-color: #008000\">'id'</span>: <span style=\"color: #008000; text-decoration-color: #008000\">'call_uwd6scxY0eND3e26pL5moIp8'</span>,\n",
              "        <span style=\"color: #008000; text-decoration-color: #008000\">'type'</span>: <span style=\"color: #008000; text-decoration-color: #008000\">'tool_call'</span>\n",
              "    <span style=\"font-weight: bold\">}</span>\n",
              "<span style=\"font-weight: bold\">]</span>\n",
              "</pre>\n"
            ]
          },
          "metadata": {}
        }
      ]
    },
    {
      "cell_type": "code",
      "source": [
        "from langchain.output_parsers.openai_tools import JsonOutputToolsParser\n",
        "tools_parser = JsonOutputToolsParser()"
      ],
      "metadata": {
        "id": "Xz0k8IgMYrDq"
      },
      "execution_count": 75,
      "outputs": []
    },
    {
      "cell_type": "code",
      "source": [
        "\n",
        "chain = ({\"city\": RunnablePassthrough()}\n",
        "         | prompt\n",
        "         | model\n",
        "         | tools_parser)\n",
        "pprint(chain.invoke(\"台北\"))"
      ],
      "metadata": {
        "id": "JiracWimlwc2",
        "colab": {
          "base_uri": "https://localhost:8080/",
          "height": 0
        },
        "outputId": "8b598a19-f08a-49da-8f53-6ea3ca87dfbc"
      },
      "execution_count": 76,
      "outputs": [
        {
          "output_type": "display_data",
          "data": {
            "text/plain": [
              "\u001b[1m[\u001b[0m\u001b[1m{\u001b[0m\u001b[32m'args'\u001b[0m: \u001b[1m{\u001b[0m\u001b[32m'search_input'\u001b[0m: \u001b[32m'台北位於哪個國家?'\u001b[0m\u001b[1m}\u001b[0m, \u001b[32m'type'\u001b[0m: \u001b[32m'Search'\u001b[0m\u001b[1m}\u001b[0m\u001b[1m]\u001b[0m\n"
            ],
            "text/html": [
              "<pre style=\"white-space:pre;overflow-x:auto;line-height:normal;font-family:Menlo,'DejaVu Sans Mono',consolas,'Courier New',monospace\"><span style=\"font-weight: bold\">[{</span><span style=\"color: #008000; text-decoration-color: #008000\">'args'</span>: <span style=\"font-weight: bold\">{</span><span style=\"color: #008000; text-decoration-color: #008000\">'search_input'</span>: <span style=\"color: #008000; text-decoration-color: #008000\">'台北位於哪個國家?'</span><span style=\"font-weight: bold\">}</span>, <span style=\"color: #008000; text-decoration-color: #008000\">'type'</span>: <span style=\"color: #008000; text-decoration-color: #008000\">'Search'</span><span style=\"font-weight: bold\">}]</span>\n",
              "</pre>\n"
            ]
          },
          "metadata": {}
        }
      ]
    },
    {
      "cell_type": "code",
      "source": [
        "chat_model.invoke(chain.invoke(\"台北\"))"
      ],
      "metadata": {
        "colab": {
          "base_uri": "https://localhost:8080/"
        },
        "id": "4n1E0GZLQ4Hx",
        "outputId": "2f2513ac-7240-4559-a06c-65012e5e3780"
      },
      "execution_count": 99,
      "outputs": [
        {
          "output_type": "execute_result",
          "data": {
            "text/plain": [
              "AIMessage(content='您好，請問您想查詢什麼樣的問題或主題的答案呢？我會盡力幫助您找到所需的信息。', additional_kwargs={'refusal': None}, response_metadata={'token_usage': {'completion_tokens': 55, 'prompt_tokens': 13, 'total_tokens': 68, 'completion_tokens_details': {'accepted_prediction_tokens': 0, 'audio_tokens': 0, 'reasoning_tokens': 0, 'rejected_prediction_tokens': 0}, 'prompt_tokens_details': {'audio_tokens': 0, 'cached_tokens': 0}}, 'model_name': 'gpt-3.5-turbo-0125', 'system_fingerprint': None, 'finish_reason': 'stop', 'logprobs': None}, id='run-91f2182c-8c8f-443f-8098-b67f33cbd559-0', usage_metadata={'input_tokens': 13, 'output_tokens': 55, 'total_tokens': 68, 'input_token_details': {'audio': 0, 'cache_read': 0}, 'output_token_details': {'audio': 0, 'reasoning': 0}})"
            ]
          },
          "metadata": {},
          "execution_count": 99
        }
      ]
    },
    {
      "cell_type": "markdown",
      "source": [
        "### 分支與合併"
      ],
      "metadata": {
        "id": "2VeMShb9VP8H"
      }
    },
    {
      "cell_type": "code",
      "source": [
        "person_template = ChatPromptTemplate.from_template(\n",
        "    \"是誰發明{invention}？\")\n",
        "country_template = ChatPromptTemplate.from_template(\n",
        "    \"{person}來自哪個國家？\")\n",
        "\n",
        "person_chain = ({\"invention\": RunnablePassthrough()}\n",
        "              | person_template\n",
        "              | chat_model\n",
        "              | str_parser)\n",
        "\n",
        "person_summary_chain = (\n",
        "    {\"person\": person_chain}\n",
        "    | country_template\n",
        "    | chat_model\n",
        "    | str_parser\n",
        ")\n",
        "\n",
        "person_summary_chain.invoke(\"珍珠奶茶\")"
      ],
      "metadata": {
        "id": "sO9ByuR5aX7r",
        "colab": {
          "base_uri": "https://localhost:8080/",
          "height": 35
        },
        "outputId": "94bbeb98-98d3-47e3-fd55-507209ae81dc"
      },
      "execution_count": 97,
      "outputs": [
        {
          "output_type": "execute_result",
          "data": {
            "text/plain": [
              "'珍珠奶茶起源於台灣。'"
            ],
            "application/vnd.google.colaboratory.intrinsic+json": {
              "type": "string"
            }
          },
          "metadata": {},
          "execution_count": 97
        }
      ]
    },
    {
      "cell_type": "code",
      "source": [
        "!pip install grandalf\n",
        "person_summary_chain.get_graph().print_ascii()"
      ],
      "metadata": {
        "colab": {
          "base_uri": "https://localhost:8080/"
        },
        "id": "IlraP-KiRbJ6",
        "outputId": "33b0325b-bc49-4d86-9888-f2e07cb94148"
      },
      "execution_count": 102,
      "outputs": [
        {
          "output_type": "stream",
          "name": "stdout",
          "text": [
            "Requirement already satisfied: grandalf in /usr/local/lib/python3.10/dist-packages (0.8)\n",
            "Requirement already satisfied: pyparsing in /usr/local/lib/python3.10/dist-packages (from grandalf) (3.2.1)\n",
            "+-----------------------+  \n",
            "| Parallel<person>Input |  \n",
            "+-----------------------+  \n",
            "            *              \n",
            "            *              \n",
            "            *              \n",
            "     +-------------+       \n",
            "     | Passthrough |       \n",
            "     +-------------+       \n",
            "            *              \n",
            "            *              \n",
            "            *              \n",
            "  +--------------------+   \n",
            "  | ChatPromptTemplate |   \n",
            "  +--------------------+   \n",
            "            *              \n",
            "            *              \n",
            "            *              \n",
            "      +------------+       \n",
            "      | ChatOpenAI |       \n",
            "      +------------+       \n",
            "            *              \n",
            "            *              \n",
            "            *              \n",
            "   +-----------------+     \n",
            "   | StrOutputParser |     \n",
            "   +-----------------+     \n",
            "            *              \n",
            "            *              \n",
            "            *              \n",
            "  +--------------------+   \n",
            "  | ChatPromptTemplate |   \n",
            "  +--------------------+   \n",
            "            *              \n",
            "            *              \n",
            "            *              \n",
            "      +------------+       \n",
            "      | ChatOpenAI |       \n",
            "      +------------+       \n",
            "            *              \n",
            "            *              \n",
            "            *              \n",
            "   +-----------------+     \n",
            "   | StrOutputParser |     \n",
            "   +-----------------+     \n",
            "            *              \n",
            "            *              \n",
            "            *              \n",
            "+-----------------------+  \n",
            "| StrOutputParserOutput |  \n",
            "+-----------------------+  \n"
          ]
        }
      ]
    },
    {
      "cell_type": "markdown",
      "source": [
        "### 零污染計畫書Chain"
      ],
      "metadata": {
        "id": "JYFpA98lGgh4"
      }
    },
    {
      "cell_type": "code",
      "source": [
        "from langchain_core.output_parsers import JsonOutputParser\n",
        "json_parser = JsonOutputParser()\n",
        "format_instructions = json_parser.get_format_instructions()"
      ],
      "metadata": {
        "id": "-UvYRbk5QGNN"
      },
      "execution_count": 78,
      "outputs": []
    },
    {
      "cell_type": "code",
      "source": [
        "# 制定提示模板\n",
        "prompt1 = ChatPromptTemplate.from_template(\n",
        "    \"請根據{attribute}特性，推薦一種環保的再生能源。請僅提供能源的名稱：\"\n",
        ")\n",
        "prompt2 = ChatPromptTemplate.from_template(\n",
        "    \"在永續發展中，{energy}能源通常用於製造哪種環保材料？請僅提供能源材料的名稱：\"\n",
        "    \"{format_instructions}\"\n",
        ")\n",
        "prompt3 = ChatPromptTemplate.from_template(\n",
        "    \"假設每個國家的能源發展是相等的，哪個國家使用{energy}能源可以做得最好？\"\n",
        "    \"請僅提供國家/地區名稱：\"\n",
        ")\n",
        "prompt4 = ChatPromptTemplate.from_template(\n",
        "    \"請結合{material}和{country}，描述一個環境友善的未來生活場景。\"\n",
        ")\n",
        "\n",
        "prompt2 = prompt2.partial(format_instructions=format_instructions)\n",
        "# 模型串输出模板\n",
        "model_parser = chat_model | str_parser\n",
        "\n",
        "# 能源生成鏈\n",
        "energy_generator = (\n",
        "    {\"attribute\": RunnablePassthrough()}\n",
        "    | prompt1\n",
        "    | {\"energy\": model_parser}\n",
        ")\n",
        "\n",
        "# 能源材料\n",
        "energy_to_material = prompt2 | chat_model | json_parser\n",
        "\n",
        "# 能源使用做得最好的國家\n",
        "material_to_country = prompt3 | model_parser\n",
        "\n",
        "# 结合以上\n",
        "question_generator = (\n",
        "    energy_generator\n",
        "    | {\"material\": energy_to_material | itemgetter('環保材料'),\n",
        "       \"country\": material_to_country}\n",
        "    | prompt4\n",
        ")"
      ],
      "metadata": {
        "id": "iGHxd_0NaduL"
      },
      "execution_count": 79,
      "outputs": []
    },
    {
      "cell_type": "code",
      "source": [
        "energy_to_material.invoke({'energy':\"太陽能\"})"
      ],
      "metadata": {
        "colab": {
          "base_uri": "https://localhost:8080/"
        },
        "id": "0RLYQMmRLqn8",
        "outputId": "9d3f7c37-0882-469f-f2bd-5ddfa8349bdc"
      },
      "execution_count": 80,
      "outputs": [
        {
          "output_type": "execute_result",
          "data": {
            "text/plain": [
              "{'環保材料': '太陽能電池板'}"
            ]
          },
          "metadata": {},
          "execution_count": 80
        }
      ]
    },
    {
      "cell_type": "code",
      "source": [
        "material_to_country.invoke({'energy':\"太陽能\"})"
      ],
      "metadata": {
        "colab": {
          "base_uri": "https://localhost:8080/",
          "height": 35
        },
        "id": "d0VfEznJKrHQ",
        "outputId": "0c667d40-02be-444a-e3fa-b79b4ebb3f26"
      },
      "execution_count": 81,
      "outputs": [
        {
          "output_type": "execute_result",
          "data": {
            "text/plain": [
              "'澳大利亞'"
            ],
            "application/vnd.google.colaboratory.intrinsic+json": {
              "type": "string"
            }
          },
          "metadata": {},
          "execution_count": 81
        }
      ]
    },
    {
      "cell_type": "code",
      "source": [
        "prompt = question_generator.invoke(\"零污染\")\n",
        "print(f\"最終產生的問題：{prompt.messages[0].content}\\n\\n\"\n",
        "      f\"AI 回答結果：{chat_model.invoke(prompt).content}\")"
      ],
      "metadata": {
        "id": "fs9pG7kvaiyl",
        "colab": {
          "base_uri": "https://localhost:8080/"
        },
        "outputId": "8657fd89-80bf-481a-e046-3b2ac8cece45"
      },
      "execution_count": 82,
      "outputs": [
        {
          "output_type": "stream",
          "name": "stdout",
          "text": [
            "最終產生的問題：請結合太陽能電池板和以色列，描述一個環境友善的未來生活場景。\n",
            "\n",
            "AI 回答結果：在未來的以色列，每一棟建築物的屋頂都安裝了太陽能電池板，這些電池板吸收太陽能並轉化為電力，為居民提供清潔且可再生的能源。居民們可以將這些電力用於家庭用電，降低對傳統燃煤能源的依賴，同時也減少對環境的負擔。\n",
            "\n",
            "此外，以色列的城市裡到處都是綠色植被和公共花園，這些綠地不僅美化了城市，還能吸收二氧化碳並釋放氧氣，改善城市空氣品質。居民們可以在這些綠地裡散步、運動或休閒，享受天然氧氣的清新。\n",
            "\n",
            "在這個環境友善的未來生活場景中，以色列的居民們將生活在一個乾淨、綠色、可持續的城市裡，他們的生活品質將得到顯著提升，同時也保護了地球的環境，為子孫後代留下一個更美好的未來。\n"
          ]
        }
      ]
    },
    {
      "cell_type": "code",
      "source": [
        "!pip install grandalf\n",
        "question_generator.get_graph().print_ascii()"
      ],
      "metadata": {
        "id": "nanKlXUQfufL",
        "colab": {
          "base_uri": "https://localhost:8080/"
        },
        "outputId": "6943442e-cf83-4b15-cfff-d851f2b6d3b7"
      },
      "execution_count": 83,
      "outputs": [
        {
          "output_type": "stream",
          "name": "stdout",
          "text": [
            "Requirement already satisfied: grandalf in /usr/local/lib/python3.10/dist-packages (0.8)\n",
            "Requirement already satisfied: pyparsing in /usr/local/lib/python3.10/dist-packages (from grandalf) (3.2.1)\n",
            "             +--------------------------+              \n",
            "             | Parallel<attribute>Input |              \n",
            "             +--------------------------+              \n",
            "                           *                           \n",
            "                           *                           \n",
            "                           *                           \n",
            "                    +-------------+                    \n",
            "                    | Passthrough |                    \n",
            "                    +-------------+                    \n",
            "                           *                           \n",
            "                           *                           \n",
            "                           *                           \n",
            "                +--------------------+                 \n",
            "                | ChatPromptTemplate |                 \n",
            "                +--------------------+                 \n",
            "                           *                           \n",
            "                           *                           \n",
            "                           *                           \n",
            "                    +------------+                     \n",
            "                    | ChatOpenAI |                     \n",
            "                    +------------+                     \n",
            "                           *                           \n",
            "                           *                           \n",
            "                           *                           \n",
            "                  +-----------------+                  \n",
            "                  | StrOutputParser |                  \n",
            "                  +-----------------+                  \n",
            "                           *                           \n",
            "                           *                           \n",
            "                           *                           \n",
            "          +---------------------------------+          \n",
            "          | Parallel<material,country>Input |          \n",
            "          +---------------------------------+          \n",
            "                  ***             ***                  \n",
            "                **                   ***               \n",
            "              **                        **             \n",
            "+--------------------+                    **           \n",
            "| ChatPromptTemplate |                     *           \n",
            "+--------------------+                     *           \n",
            "           *                               *           \n",
            "           *                               *           \n",
            "           *                               *           \n",
            "    +------------+              +--------------------+ \n",
            "    | ChatOpenAI |              | ChatPromptTemplate | \n",
            "    +------------+              +--------------------+ \n",
            "           *                               *           \n",
            "           *                               *           \n",
            "           *                               *           \n",
            " +------------------+               +------------+     \n",
            " | JsonOutputParser |               | ChatOpenAI |     \n",
            " +------------------+               +------------+     \n",
            "           *                               *           \n",
            "           *                               *           \n",
            "           *                               *           \n",
            "      +--------+                  +-----------------+  \n",
            "      | Lambda |                  | StrOutputParser |  \n",
            "      +--------+**                +-----------------+  \n",
            "                  ***             ***                  \n",
            "                     **         **                     \n",
            "                       **     **                       \n",
            "         +----------------------------------+          \n",
            "         | Parallel<material,country>Output |          \n",
            "         +----------------------------------+          \n",
            "                           *                           \n",
            "                           *                           \n",
            "                           *                           \n",
            "                +--------------------+                 \n",
            "                | ChatPromptTemplate |                 \n",
            "                +--------------------+                 \n",
            "                           *                           \n",
            "                           *                           \n",
            "                           *                           \n",
            "             +--------------------------+              \n",
            "             | ChatPromptTemplateOutput |              \n",
            "             +--------------------------+              \n"
          ]
        }
      ]
    },
    {
      "cell_type": "markdown",
      "source": [
        "## 3-3 LCEL 函式應用與分支合併"
      ],
      "metadata": {
        "id": "gIHrNMUUMZZu"
      }
    },
    {
      "cell_type": "markdown",
      "source": [
        "### RunnableLambda"
      ],
      "metadata": {
        "id": "OejhtwKgMgKo"
      }
    },
    {
      "cell_type": "code",
      "source": [
        "from langchain_core.runnables import RunnableLambda"
      ],
      "metadata": {
        "id": "dP_cYOJiMbTm"
      },
      "execution_count": 84,
      "outputs": []
    },
    {
      "cell_type": "code",
      "source": [
        "def commodity(food):\n",
        "    # 定義每個商店的商品和價格\n",
        "    items = {\n",
        "        \"熱狗\": 50,\n",
        "        \"漢堡\": 70,\n",
        "        \"披薩\": 100}\n",
        "    item = items.get(food)\n",
        "    print(f\"{food}價格：{item}\")\n",
        "    return {\"price\": item}"
      ],
      "metadata": {
        "id": "Paa50mLIMi4j"
      },
      "execution_count": 85,
      "outputs": []
    },
    {
      "cell_type": "code",
      "source": [
        "food=RunnableLambda(commodity)\n",
        "food.invoke(\"披薩\")"
      ],
      "metadata": {
        "id": "YaREXYXMMjlu",
        "colab": {
          "base_uri": "https://localhost:8080/"
        },
        "outputId": "502fc51d-6d55-42c3-889d-c5c0c1dcce9e"
      },
      "execution_count": 86,
      "outputs": [
        {
          "output_type": "stream",
          "name": "stdout",
          "text": [
            "披薩價格：100\n"
          ]
        },
        {
          "output_type": "execute_result",
          "data": {
            "text/plain": [
              "{'price': 100}"
            ]
          },
          "metadata": {},
          "execution_count": 86
        }
      ]
    },
    {
      "cell_type": "code",
      "source": [
        "prompt = ChatPromptTemplate.from_template(\"我選擇的商品要多少錢？\"\n",
        "                        \"數量{number}價錢{price}\")\n",
        "chain = (\n",
        "    {\n",
        "        'price':itemgetter(\"food\") | RunnableLambda(commodity),\n",
        "        'number':itemgetter(\"number\")\n",
        "    }\n",
        "    | prompt\n",
        "    | chat_model\n",
        "    | str_parser\n",
        ")\n",
        "print(chain.invoke({\"food\":\"漢堡\", \"number\":\"101\"}))"
      ],
      "metadata": {
        "id": "cKwb4PjUMlCQ",
        "colab": {
          "base_uri": "https://localhost:8080/"
        },
        "outputId": "37829978-562c-4f63-d2b8-ee36ad8cf34c"
      },
      "execution_count": 87,
      "outputs": [
        {
          "output_type": "stream",
          "name": "stdout",
          "text": [
            "漢堡價格：70\n",
            "那麼如果您選擇的商品數量為101個，每個商品的價格為70元，那總共需要支付的金額將為7070元。如果您有任何其他問題或需求，請隨時告訴我！我很樂意幫助您。\n"
          ]
        }
      ]
    },
    {
      "cell_type": "markdown",
      "source": [
        "### RunnableBranch"
      ],
      "metadata": {
        "id": "BQSCqVsnMoRu"
      }
    },
    {
      "cell_type": "code",
      "source": [
        "chain = (\n",
        "    PromptTemplate.from_template(\n",
        "        \"根據使用者問題作回答, 將問題分為要求命令或是查詢答案。\\n\"\n",
        "        \"<問題>\\n{question}\\n</問題>\\n\"\n",
        "        \"分類:\"\"\"\n",
        "    )\n",
        "    | chat_model\n",
        "    | str_parser\n",
        ")"
      ],
      "metadata": {
        "id": "dxDTDWZjMmdp"
      },
      "execution_count": 88,
      "outputs": []
    },
    {
      "cell_type": "code",
      "source": [
        "print(chain.invoke({\"question\": \"立刻使用 Google 搜尋台積電股票\"}))\n",
        "print(chain.invoke({\"question\": \"告訴我什麼是極光\"}))"
      ],
      "metadata": {
        "id": "6tetbozPMqOG",
        "colab": {
          "base_uri": "https://localhost:8080/"
        },
        "outputId": "cac3e632-f7ed-4598-f430-5e1bbadc154f"
      },
      "execution_count": 89,
      "outputs": [
        {
          "output_type": "stream",
          "name": "stdout",
          "text": [
            "要求命令\n",
            "查詢答案\n"
          ]
        }
      ]
    },
    {
      "cell_type": "code",
      "source": [
        "order_chain = (\n",
        "    PromptTemplate.from_template(\n",
        "        \"你不會思考只根據命令做回應, 每次回答開頭都以 '是的, 主人' \"\n",
        "        \"回覆命令\\n\"\n",
        "        \"問題: {question}\\n\"\n",
        "        \"回覆:\"\n",
        "    )\n",
        "    | chat_model\n",
        ")\n",
        "ask_chain = (\n",
        "    PromptTemplate.from_template(\n",
        "        \"你只能回答知識性相關問題, 任何要求命令不會照做也不會回答,\"\n",
        "        \"每次回答開頭都以 '根據我的知識' 回覆命令\\n\"\n",
        "        \"問題: {question}\"\n",
        "        \"回覆:\"\n",
        "    )\n",
        "    | chat_model\n",
        ")\n",
        "defult_chain = (\n",
        "    PromptTemplate.from_template(\n",
        "        \"請回答問題:\\n\"\n",
        "        \"問題: {question}\\n\"\n",
        "        \"回覆:\"\n",
        "    )\n",
        "    | chat_model\n",
        ")"
      ],
      "metadata": {
        "id": "F0mV0yvHMreq"
      },
      "execution_count": 90,
      "outputs": []
    },
    {
      "cell_type": "markdown",
      "source": [
        "### **自訂命令判斷function**"
      ],
      "metadata": {
        "id": "sw5gE8dYMt-Y"
      }
    },
    {
      "cell_type": "code",
      "source": [
        "def route(info):\n",
        "    if \"查詢答案\" in info[\"topic\"]:\n",
        "        return ask_chain\n",
        "    elif \"要求命令\" in info[\"topic\"]:\n",
        "        return order_chain\n",
        "    else:\n",
        "        return defult_chain"
      ],
      "metadata": {
        "id": "5XrM90B9MuVR"
      },
      "execution_count": 91,
      "outputs": []
    },
    {
      "cell_type": "code",
      "source": [
        "from langchain_core.runnables import RunnableLambda\n",
        "\n",
        "full_chain = ({\"topic\": chain, \"question\": lambda x: x[\"question\"]}\n",
        "             | RunnableLambda(route)\n",
        "             | str_parser)"
      ],
      "metadata": {
        "id": "3yJM9RazMvhQ"
      },
      "execution_count": 92,
      "outputs": []
    },
    {
      "cell_type": "code",
      "source": [
        "print(full_chain.invoke({\"question\": \"去幫我買東西\"}))\n",
        "print('- '*10)\n",
        "print(full_chain.invoke({\"question\": \"北極圈是在緯度多少以上？\"}))"
      ],
      "metadata": {
        "id": "m32gW0oHMxrZ",
        "colab": {
          "base_uri": "https://localhost:8080/"
        },
        "outputId": "c9ba55ad-2241-4c01-e375-1f9c24cb4967"
      },
      "execution_count": 93,
      "outputs": [
        {
          "output_type": "stream",
          "name": "stdout",
          "text": [
            "是的, 主人。去幫我買東西。\n",
            "- - - - - - - - - - \n",
            "根據我的知識，北極圈是在北緯 66.5度以上。\n"
          ]
        }
      ]
    },
    {
      "cell_type": "markdown",
      "source": [
        "### 使用 RunnableBranch"
      ],
      "metadata": {
        "id": "OQHdH2UQMzUr"
      }
    },
    {
      "cell_type": "code",
      "source": [
        "from langchain_core.runnables import RunnableBranch\n",
        "\n",
        "branch = RunnableBranch(\n",
        "    (lambda x: \"查詢答案\" in x[\"topic\"], ask_chain),\n",
        "    (lambda x: \"要求命令\" in x[\"topic\"], order_chain),\n",
        "    defult_chain,\n",
        ")"
      ],
      "metadata": {
        "id": "LWIbz26YM0TE"
      },
      "execution_count": 94,
      "outputs": []
    },
    {
      "cell_type": "code",
      "source": [
        "full_chain = ({\"topic\": chain, \"question\": lambda x: x[\"question\"]}\n",
        "              | branch\n",
        "              | str_parser)"
      ],
      "metadata": {
        "id": "jzDPvyz7M1mG"
      },
      "execution_count": 95,
      "outputs": []
    },
    {
      "cell_type": "code",
      "source": [
        "print(full_chain.invoke({\"question\": \"幫我寫一篇哈利波特小說短評\"}))\n",
        "print('- '*10)\n",
        "print(full_chain.invoke({\"question\": \"台北101有多高？\"}))"
      ],
      "metadata": {
        "id": "bhxOX7qGM2OH",
        "colab": {
          "base_uri": "https://localhost:8080/"
        },
        "outputId": "127c61ad-4cb4-4be6-fa9a-a3504a60b67a"
      },
      "execution_count": 96,
      "outputs": [
        {
          "output_type": "stream",
          "name": "stdout",
          "text": [
            "是的, 主人。哈利波特系列是一部極具魔幻色彩的小說，講述了一個關於魔法世界的奇幻故事。透過主角哈利波特的成長歷程，讀者可以感受到友情、愛情和勇氣的重要性。作者JK羅琳巧妙地將魔法世界和人類世界相互牽連，展現出神奇的魔法世界和人性的複雜性。整個系列故事情節跌宕起伏，充滿著懸疑和驚喜，吸引了無數讀者為之著迷。是一部不可錯過的經典之作。\n",
            "- - - - - - - - - - \n",
            "根據我的知識，台北101的高度為508公尺。\n"
          ]
        }
      ]
    }
  ]
}