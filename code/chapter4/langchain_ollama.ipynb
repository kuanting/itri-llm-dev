{
 "cells": [
  {
   "cell_type": "code",
   "execution_count": 1,
   "id": "de61ba6c-4138-45db-b937-472752024a7e",
   "metadata": {},
   "outputs": [],
   "source": [
    "from langchain_ollama import OllamaLLM"
   ]
  },
  {
   "cell_type": "code",
   "execution_count": 2,
   "id": "c7acced2-f43f-4b08-9d4a-c0a78b3705a1",
   "metadata": {},
   "outputs": [],
   "source": [
    "llm = OllamaLLM(model=\"llama3.2:1b\")"
   ]
  },
  {
   "cell_type": "code",
   "execution_count": 7,
   "id": "2dce2d50-e3c6-4ed6-953a-2ec18c0a183d",
   "metadata": {},
   "outputs": [],
   "source": [
    "ret = llm.invoke(\"什麼是Jupyter Notebook, 用繁體中文簡單介紹\");"
   ]
  },
  {
   "cell_type": "code",
   "execution_count": 8,
   "id": "2b2bc26b-881d-40e8-b1ff-a1208dbd4812",
   "metadata": {},
   "outputs": [
    {
     "name": "stdout",
     "output_type": "stream",
     "text": [
      "Jupyter Notebook是一種web-Based的交互式 notebook計算環境，提供了高效的計算和分析工具。它允許 users 能夠直接將程式語言（如Python、R等）和視覺化圖表，用於探索數學、科學和技術領域中的資料。\n",
      "\n",
      "Jupyter Notebook是一個基於 web 的平台，由 Google 和其他大型公司共同開發。它提供了數個特點：\n",
      "\n",
      "* 有效的計算：通過使用 Jupyter Notebook，users 可能會在 Notebook 中實際上執行程式，讓 users 能夠直接 seeing result。\n",
      "* 觀察和反映：Jupyter Notebook 允許 users 可以將視覺化圖表、視覺化表格以及其他數據呈現出來，用於深入分析。\n",
      "* 多種計算語言：Jupyter Notebook 支援多種計算語言，包括 Python、R、Julia、MATLAB 等。\n",
      "* 繼承基礎的資料：users 可以儲存和 truy cập到 Notebook 中的資料。\n",
      "\n",
      "Jupyter Notebook 也提供了一個叫做 Jupyter Lab 的更強大的版本，它對於數學分析和科學計算具有更高的可用性。Jupyter Lab 是一個全新的 notebook 平面，允許 users創建多個視圖和分析，並且可以使用Python、R 等語言來實行計算。\n",
      "\n",
      "Jupyter Notebook 是一種非常強大的工具，可以幫助 users 進一步地了解數學、科學和技術領域中的問題和現象。\n"
     ]
    }
   ],
   "source": [
    "print(ret)"
   ]
  },
  {
   "cell_type": "code",
   "execution_count": null,
   "id": "6008dc45-237b-459e-8b6f-e558aa5bd6c7",
   "metadata": {},
   "outputs": [],
   "source": []
  }
 ],
 "metadata": {
  "kernelspec": {
   "display_name": "Python 3 (ipykernel)",
   "language": "python",
   "name": "python3"
  },
  "language_info": {
   "codemirror_mode": {
    "name": "ipython",
    "version": 3
   },
   "file_extension": ".py",
   "mimetype": "text/x-python",
   "name": "python",
   "nbconvert_exporter": "python",
   "pygments_lexer": "ipython3",
   "version": "3.13.1"
  }
 },
 "nbformat": 4,
 "nbformat_minor": 5
}
